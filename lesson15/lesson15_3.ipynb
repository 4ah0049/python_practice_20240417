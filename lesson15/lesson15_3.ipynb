{
 "cells": [
  {
   "cell_type": "code",
   "execution_count": 4,
   "metadata": {},
   "outputs": [
    {
     "name": "stdout",
     "output_type": "stream",
     "text": [
      "144\n",
      "=============================\n",
      "170\n",
      "=============================\n",
      "164\n",
      "=============================\n",
      "167\n",
      "=============================\n",
      "177\n",
      "=============================\n"
     ]
    }
   ],
   "source": [
    "student1 = [69, 78, 72, 91, 85]\n",
    "student2 = [75, 92, 92, 76, 92]\n",
    "for i in range(len(student1)):\n",
    "    #print(i)\n",
    "    scores=student1[i]+student2[i]\n",
    "    print(scores)\n",
    "    print('=============================')\n",
    "    #list的Dict需要一個一個得取出裡面的值 "
   ]
  },
  {
   "cell_type": "code",
   "execution_count": 5,
   "metadata": {},
   "outputs": [
    {
     "data": {
      "text/plain": [
       "[69, 78, 72, 91, 85, 75, 92, 92, 76, 92]"
      ]
     },
     "execution_count": 5,
     "metadata": {},
     "output_type": "execute_result"
    }
   ],
   "source": [
    "student1 = [69, 78, 72, 91, 85]\n",
    "student2 = [75, 92, 92, 76, 92]\n",
    "\n",
    "student1 + student2\n",
    "#沒有辦法做陣列運算"
   ]
  },
  {
   "cell_type": "code",
   "execution_count": 7,
   "metadata": {},
   "outputs": [
    {
     "name": "stdout",
     "output_type": "stream",
     "text": [
      "144\n",
      "=========\n",
      "170\n",
      "=========\n",
      "164\n",
      "=========\n",
      "167\n",
      "=========\n",
      "177\n",
      "=========\n"
     ]
    }
   ],
   "source": [
    "import numpy as np #小名\n",
    "from numpy import ndarray\n",
    "student1:ndarray = np.array([69, 78, 72, 91, 85])\n",
    "student2:ndarray = np.array([75, 92, 92, 76, 92])\n",
    "\n",
    "#可以做陣列運算,不需使用for...in\n",
    "totals:ndarray= student1 + student2\n",
    "for total in totals:\n",
    "    print(total)\n",
    "    print(\"=========\")"
   ]
  },
  {
   "cell_type": "code",
   "execution_count": 9,
   "metadata": {},
   "outputs": [
    {
     "name": "stdout",
     "output_type": "stream",
     "text": [
      "2\n",
      "(2, 3)\n",
      "6\n",
      "int64\n"
     ]
    }
   ],
   "source": [
    "array:ndarray = np.array([[1,2,3],[4,5,6]]) #2維的資料\n",
    "#print(array)\n",
    "#property\n",
    "#ndim(維度),shape(形狀),size(元素的數量),dtype(類型)\n",
    "\n",
    "print(array.ndim) #2維\n",
    "print(array.shape) #第一維有兩個[1,2,3]、[4,5,6] 第二維有三個1,2,3\n",
    "print(array.size)\n",
    "print(array.dtype) "
   ]
  },
  {
   "cell_type": "code",
   "execution_count": 11,
   "metadata": {},
   "outputs": [
    {
     "data": {
      "text/plain": [
       "array([[ 90,  99,  91,  73,  81],\n",
       "       [ 85,  59,  89,  79,  59],\n",
       "       [ 86,  81,  97,  53, 100],\n",
       "       [ 88,  69,  70,  84,  89],\n",
       "       [ 53,  88,  99,  89,  71],\n",
       "       [ 66,  60,  63,  66,  54],\n",
       "       [ 89,  87,  67,  80,  98],\n",
       "       [ 53,  87,  74,  50,  89],\n",
       "       [ 56,  74,  52,  86,  76],\n",
       "       [ 65,  85,  75,  69, 100],\n",
       "       [ 90,  80,  91,  68,  66],\n",
       "       [ 51,  93,  87,  51,  68],\n",
       "       [ 64,  96,  98,  91,  74],\n",
       "       [ 79,  90,  63,  79,  94],\n",
       "       [ 76,  61,  98,  66,  58],\n",
       "       [ 88,  96,  97,  55,  74],\n",
       "       [ 92,  66,  82,  71,  68],\n",
       "       [ 68,  89,  58,  91,  92],\n",
       "       [ 58,  90,  94,  88,  57],\n",
       "       [ 74,  60,  83,  88,  53],\n",
       "       [ 91,  74,  65,  73,  76],\n",
       "       [ 69,  61, 100,  58,  60],\n",
       "       [ 80,  67,  78,  99,  99],\n",
       "       [ 89,  66,  83,  82,  77],\n",
       "       [ 99,  57,  72,  64,  75],\n",
       "       [ 81,  55,  86,  51,  67],\n",
       "       [ 74,  82,  96,  92,  80],\n",
       "       [ 90,  62,  69,  65,  74],\n",
       "       [ 77,  92,  72,  82,  65],\n",
       "       [ 80,  90,  53,  94,  56],\n",
       "       [ 81,  76,  51,  79,  77],\n",
       "       [ 66,  61,  55,  58,  98],\n",
       "       [ 61,  67,  52,  79,  64],\n",
       "       [ 50,  91,  61,  65,  79],\n",
       "       [ 63,  78,  63,  52,  76],\n",
       "       [ 60,  70,  71,  61,  61],\n",
       "       [ 81,  57,  55,  60,  69],\n",
       "       [ 76,  93,  57,  56,  61],\n",
       "       [ 82,  85,  79,  75,  83],\n",
       "       [ 77,  53,  73,  50,  59],\n",
       "       [ 99,  97,  93,  86,  66],\n",
       "       [ 75,  86,  90,  53,  50],\n",
       "       [ 75,  57,  73,  63,  91],\n",
       "       [ 72,  68,  84,  58,  83],\n",
       "       [ 65,  78,  72,  75,  85],\n",
       "       [ 72,  75,  82, 100,  87],\n",
       "       [ 79,  64,  68,  51,  68],\n",
       "       [ 94,  93,  64,  92,  85],\n",
       "       [ 92,  80,  69,  56,  53],\n",
       "       [ 81,  52,  82,  93,  98]])"
      ]
     },
     "execution_count": 11,
     "metadata": {},
     "output_type": "execute_result"
    }
   ],
   "source": [
    "np.random.randint(50,101,size=(50, 5))"
   ]
  }
 ],
 "metadata": {
  "kernelspec": {
   "display_name": "Python 3",
   "language": "python",
   "name": "python3"
  },
  "language_info": {
   "codemirror_mode": {
    "name": "ipython",
    "version": 3
   },
   "file_extension": ".py",
   "mimetype": "text/x-python",
   "name": "python",
   "nbconvert_exporter": "python",
   "pygments_lexer": "ipython3",
   "version": "3.10.14"
  }
 },
 "nbformat": 4,
 "nbformat_minor": 2
}
