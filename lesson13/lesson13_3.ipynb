{
 "cells": [
  {
   "cell_type": "code",
   "execution_count": 1,
   "metadata": {},
   "outputs": [
    {
     "data": {
      "text/plain": [
       "'\\n字元\\n\\\\d -> (0|1|2|3|4|5|6|7|8|9)\\n\\\\d -> 0-9\\n\\\\D -> 不是0-9\\n\\\\w -> 任何字元,數字,和底線\\n\\\\W -> 不是(任何字元,數字,和底線)\\n\\\\s -> 任何空白,tab或者newline\\n\\\\S -> 不是(任何空白,tab或者newline)\\n[0-5] -> 0-5任一個\\n[0-9] -> 0-9任一個\\n[a-z] -> a-z任一個\\n[a-zA-Z] -> a-z,A-Z任一個\\n'"
      ]
     },
     "execution_count": 1,
     "metadata": {},
     "output_type": "execute_result"
    }
   ],
   "source": [
    "'''\n",
    "字元\n",
    "\\d -> (0|1|2|3|4|5|6|7|8|9)\n",
    "\\d -> 0-9\n",
    "\\D -> 不是0-9\n",
    "\\w -> 任何字元,數字,和底線\n",
    "\\W -> 不是(任何字元,數字,和底線)\n",
    "\\s -> 任何空白,tab或者newline\n",
    "\\S -> 不是(任何空白,tab或者newline)\n",
    "[0-5] -> 0-5任一個\n",
    "[0-9] -> 0-9任一個\n",
    "[a-z] -> a-z任一個\n",
    "[a-zA-Z] -> a-z,A-Z任一個\n",
    "'''"
   ]
  },
  {
   "cell_type": "code",
   "execution_count": 1,
   "metadata": {},
   "outputs": [
    {
     "data": {
      "text/plain": [
       "'2024-05-29'"
      ]
     },
     "execution_count": 1,
     "metadata": {},
     "output_type": "execute_result"
    }
   ],
   "source": [
    "import re\n",
    "test_string = \"2024-05-29\"\n",
    "pattern = re.compile(r'\\d{4}-\\d{2}-\\d{2}')\n",
    "match1 = pattern.match(test_string)\n",
    "match1.group()"
   ]
  },
  {
   "cell_type": "code",
   "execution_count": null,
   "metadata": {},
   "outputs": [],
   "source": [
    "'''\n",
    "建立一個正規則表達式\n",
    "有效的電話號碼:(123) 456-7890\n",
    "無效的電話號碼:123-456-7890\n",
    "\n",
    "有效日期:2024-05-29\n",
    "無效日期:2024-13-01\n",
    "\n",
    "\n",
    "pattern = r'\\d{4}-(0[1-9]|1[0-2])-(0[1-9]|[12][0-9]|3[01])'\n",
    "請建立一個輸入的範例,判斷格式是否正確\n",
    "'''"
   ]
  },
  {
   "cell_type": "code",
   "execution_count": 13,
   "metadata": {},
   "outputs": [
    {
     "name": "stdout",
     "output_type": "stream",
     "text": [
      "(0912)-123-456有效的電話\n",
      "你輸入的日期為2024-06-03\n"
     ]
    }
   ],
   "source": [
    "import re\n",
    "phone_num = input(\"請輸入手機號碼(xxxx)-xxx-xxx:\")\n",
    "phoneNumRegex:re.Pattern = re.compile(r'(\\(\\d{4}\\))-(\\d{3})-(\\d{3})') \n",
    "match1:re.Match | None = re.match(phoneNumRegex,phone_num)\n",
    "if match1 is not None:\n",
    "    print(f\"{match1.group()}有效的電話\")\n",
    "\n",
    "else:\n",
    "    print(f\"{phone_num}無效的電話\")\n",
    "\n",
    "\n",
    "date = input(\"請輸入日期xxxx-xx-xx:\")\n",
    "dateRegex:re.Pattern=re.compile(r'\\d{4}-(0[1-9]|1[0-2])-(0[1-9]|[12][0-9]|3[01])')\n",
    "match_date:re.match=re.match(dateRegex,date)\n",
    "if match_date is not None:\n",
    "    print(f'你輸入的日期為{match_date.group()}')\n",
    "else:\n",
    "    print(f\"{date}為無效的日期,請重新輸入\")"
   ]
  },
  {
   "cell_type": "code",
   "execution_count": null,
   "metadata": {},
   "outputs": [],
   "source": []
  }
 ],
 "metadata": {
  "kernelspec": {
   "display_name": "Python 3",
   "language": "python",
   "name": "python3"
  },
  "language_info": {
   "codemirror_mode": {
    "name": "ipython",
    "version": 3
   },
   "file_extension": ".py",
   "mimetype": "text/x-python",
   "name": "python",
   "nbconvert_exporter": "python",
   "pygments_lexer": "ipython3",
   "version": "3.10.14"
  }
 },
 "nbformat": 4,
 "nbformat_minor": 2
}
