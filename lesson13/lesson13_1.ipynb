{
 "cells": [
  {
   "cell_type": "code",
   "execution_count": 1,
   "metadata": {},
   "outputs": [
    {
     "data": {
      "text/plain": [
       "\"That is Allice'cat\""
      ]
     },
     "execution_count": 1,
     "metadata": {},
     "output_type": "execute_result"
    }
   ],
   "source": [
    "#字串的處理\n",
    "'That is Allice's cat' \n",
    "#出現問題單引號與逗點相撞\n",
    "\n",
    "\"That is Allice's cat\"\n",
    "#可將單引號改成雙引號 "
   ]
  },
  {
   "cell_type": "code",
   "execution_count": 2,
   "metadata": {},
   "outputs": [
    {
     "data": {
      "text/plain": [
       "\"That is Allice'cat\""
      ]
     },
     "execution_count": 2,
     "metadata": {},
     "output_type": "execute_result"
    }
   ],
   "source": [
    "#脫逸自元\n",
    "'That is Allice\\'s cat'"
   ]
  },
  {
   "cell_type": "code",
   "execution_count": 11,
   "metadata": {},
   "outputs": [
    {
     "name": "stdout",
     "output_type": "stream",
     "text": [
      "That is Allice\\'s cat\n"
     ]
    }
   ],
   "source": [
    "#raw string 原生字元\n",
    "print(r'That is Allice\\'s cat') #符號也會一起跑出來"
   ]
  },
  {
   "cell_type": "code",
   "execution_count": 6,
   "metadata": {},
   "outputs": [
    {
     "data": {
      "text/plain": [
       "'Ben'"
      ]
     },
     "execution_count": 6,
     "metadata": {},
     "output_type": "execute_result"
    }
   ],
   "source": [
    "#Str(name)是不可變變數\n",
    "#tuple也是不可以改變\n",
    "name:str=\"ben\"\n",
    "f'Hello {name}' #字串插補\n",
    "\n",
    "name1=name.capitalize() #將第一個字變大寫\n",
    "name1\n",
    "\n"
   ]
  },
  {
   "cell_type": "code",
   "execution_count": 2,
   "metadata": {},
   "outputs": [
    {
     "name": "stdout",
     "output_type": "stream",
     "text": [
      "hello python\n",
      "hello python\n",
      "python hello\n",
      "hello python python\n"
     ]
    }
   ],
   "source": [
    "name:str=\"ben\"\n",
    "\"Hello! {}\".format(name)#使用str的實體方法format()來放入文字\n",
    "\n",
    "print(\"{} {}\".format(\"hello\", \"python\"))    #不設定位置，輸出按照順序\n",
    "#'hello python'\n",
    "\n",
    "print(\"{0} {1}\".format(\"hello\", \"python\"))    #設定第一個括號放 0 --> hello\n",
    "#'hello python'\n",
    "\n",
    "print(\"{1} {0}\".format(\"hello\", \"python\"))    #設定位置跟後面相反，所以先輸出 python\n",
    "# 'python hello'\n",
    "\n",
    "print(\"{0} {1} {1}\".format(\"hello\", \"python\"))\n",
    "# 'hello python python'"
   ]
  },
  {
   "cell_type": "code",
   "execution_count": 3,
   "metadata": {},
   "outputs": [
    {
     "data": {
      "text/plain": [
       "['2024', '05', '29']"
      ]
     },
     "execution_count": 3,
     "metadata": {},
     "output_type": "execute_result"
    }
   ],
   "source": [
    "date:str=\"2024/05/29\"\n",
    "date.split(\"/\")\n",
    "#變成list"
   ]
  },
  {
   "cell_type": "code",
   "execution_count": 9,
   "metadata": {},
   "outputs": [
    {
     "data": {
      "text/plain": [
       "'2024-05-29'"
      ]
     },
     "execution_count": 9,
     "metadata": {},
     "output_type": "execute_result"
    }
   ],
   "source": [
    "date:str=\"2024/05/29\"\n",
    "date:list=date.split(\"/\")\n",
    "date_format:str=\"-\".join(date)\n",
    "date_format\n",
    "#先切割成list 再放入(-)當作區隔。"
   ]
  },
  {
   "cell_type": "code",
   "execution_count": 4,
   "metadata": {},
   "outputs": [
    {
     "name": "stdout",
     "output_type": "stream",
     "text": [
      "That is Alice\\'s cat.\n"
     ]
    }
   ],
   "source": [
    "#raw string (原生字元)\n",
    "print(r'That is Alice\\'s cat.')\n",
    "\n",
    "#'r 不管輸入什麼都輝輸出"
   ]
  },
  {
   "cell_type": "code",
   "execution_count": 12,
   "metadata": {},
   "outputs": [
    {
     "name": "stdout",
     "output_type": "stream",
     "text": [
      "【記者呂承哲／綜合報導】費城半導體指數今年以來上漲27.36%，AI王者輝達股價更\n",
      "是大漲136%，高居半導體股之冠，然而，半導體巨頭英特爾股價今\n",
      "年卻下跌35%，台積電ADR則是今年以來大漲57%。對此，財信傳媒董\n",
      "事長謝金河表示，在AI帶領的全球半導體產業奔騰中，英特爾單獨向後退，問題當然不單純。\n"
     ]
    }
   ],
   "source": [
    "#多行文字單引號或雙引號都可以\n",
    "message = \"\"\"【記者呂承哲／綜合報導】費城半導體指數今年以來上漲27.36%，AI王者輝達股價更\n",
    "是大漲136%，高居半導體股之冠，然而，半導體巨頭英特爾股價今\n",
    "年卻下跌35%，台積電ADR則是今年以來大漲57%。對此，財信傳媒董\n",
    "事長謝金河表示，在AI帶領的全球半導體\\\n",
    "產業奔騰中，英特爾單獨向後退，問題當然不單純。\"\"\"\n",
    "print(message)"
   ]
  }
 ],
 "metadata": {
  "kernelspec": {
   "display_name": "Python 3",
   "language": "python",
   "name": "python3"
  },
  "language_info": {
   "codemirror_mode": {
    "name": "ipython",
    "version": 3
   },
   "file_extension": ".py",
   "mimetype": "text/x-python",
   "name": "python",
   "nbconvert_exporter": "python",
   "pygments_lexer": "ipython3",
   "version": "3.10.14"
  }
 },
 "nbformat": 4,
 "nbformat_minor": 2
}
