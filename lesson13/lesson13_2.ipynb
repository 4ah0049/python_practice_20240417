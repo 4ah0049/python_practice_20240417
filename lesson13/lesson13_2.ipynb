{
 "cells": [
  {
   "cell_type": "markdown",
   "metadata": {},
   "source": [
    "### 正規則表達式(regular expression)\n",
    "-比對字串(使用者輸入的格式,是否符合我們要的格式(pattern))\n",
    "-搜尋字串(搜尋出大量的文字,取出符合pattern的文字)"
   ]
  },
  {
   "cell_type": "code",
   "execution_count": 1,
   "metadata": {},
   "outputs": [
    {
     "name": "stdout",
     "output_type": "stream",
     "text": [
      "0911-111-111-符合格式\n"
     ]
    }
   ],
   "source": [
    "#專門輔助字串用的\n",
    "import re\n",
    "phone_number=input(\"請輸入手機號碼xxxx-xxx-xxx\")\n",
    "phoneNumRegex:re.Pattern=re.compile(r\"\\d\\d\\d\\d-\\d\\d\\d-\\d\\d\\d\") \n",
    "#re.compile會傳出pattern的實體，並用於search 、match\n",
    "#将正则表达式的样式编译为一个正则表达式对象 （正则对象），可以用于匹配，通过这个对象的方法 match(), search()\n",
    "#print(type(phoneNumRegex)) #pattern的實體\n",
    "\n",
    "match1:re.Match|None=re.match(phoneNumRegex,phone_number)\n",
    "# match 的意思就是說輸入的字有沒有跟我們的pattern是相同的。\n",
    "\n",
    "if match1 is not None:\n",
    "    print(f\"{match1.group()}-符合格式\") # match 的實體方法，返回一个或者多个匹配的子组\n",
    "else:\n",
    "    print(\"格式不符\")\n",
    "\n",
    "#match 就是比對所有文字有沒有符合這串文字\n",
    "#最難寫的就是ppttern"
   ]
  },
  {
   "cell_type": "code",
   "execution_count": 8,
   "metadata": {},
   "outputs": [
    {
     "name": "stdout",
     "output_type": "stream",
     "text": [
      "0912-456-789-格式符合\n",
      "0912-456-789-gruop(0)\n",
      "0912-gruop(1)\n",
      "456-gruop(2)\n",
      "789-gruop(3)\n"
     ]
    }
   ],
   "source": [
    "import re\n",
    "phone_num = input(\"請輸入手機號碼xxxx-xxx-xxx:\")\n",
    "phoneNumRegex:re.Pattern = re.compile(r'(\\d\\d\\d\\d)-(\\d\\d\\d)-(\\d\\d\\d)') #Regex 是正規則表達式的簡寫\n",
    "match1:re.Match | None = re.match(phoneNumRegex,phone_num)\n",
    "if match1 is not None:\n",
    "    print(f\"{match1.group()}-格式符合\")\n",
    "    print(f\"{match1.group(0)}-gruop(0)\") #group(0) 代表全部符合的\n",
    "    print(f\"{match1.group(1)}-gruop(1)\") #group(1) 代表第一個符合的\n",
    "    print(f\"{match1.group(2)}-gruop(2)\") #group(2) 代表第一個符合的\n",
    "    print(f\"{match1.group(3)}-gruop(3)\") #group(3) 代表第一個符合的\n",
    "else:\n",
    "    print(\"格式不符\")\n",
    "    "
   ]
  },
  {
   "cell_type": "code",
   "execution_count": 11,
   "metadata": {},
   "outputs": [
    {
     "name": "stdout",
     "output_type": "stream",
     "text": [
      "(0911)-456-789-格式符合\n",
      "(0911)-456-789-gruop(0)\n",
      "(0911)-gruop(1)\n",
      "456-gruop(2)\n",
      "456-gruop(3)\n"
     ]
    }
   ],
   "source": [
    "import re\n",
    "phone_num = input(\"請輸入手機號碼(xxxx)-xxx-xxx:\")#如果要求要有括號\n",
    "phoneNumRegex:re.Pattern = re.compile(r'(\\(\\d\\d\\d\\d\\))-(\\d\\d\\d)-(\\d\\d\\d)')\n",
    "#   \\(  、  \\)皆是整規則表達式中的特殊符號\n",
    "#Regex 是正規則表達式的簡寫\n",
    "\n",
    "match1:re.Match | None = re.match(phoneNumRegex,phone_num)\n",
    "if match1 is not None:\n",
    "    print(f\"{match1.group()}-格式符合\")\n",
    "    print(f\"{match1.group(0)}-gruop(0)\")\n",
    "    print(f\"{match1.group(1)}-gruop(1)\")\n",
    "    print(f\"{match1.group(2)}-gruop(2)\")\n",
    "    print(f\"{match1.group(2)}-gruop(3)\")\n",
    "else:\n",
    "    print(\"格式不符\")"
   ]
  },
  {
   "cell_type": "code",
   "execution_count": 10,
   "metadata": {},
   "outputs": [
    {
     "name": "stdout",
     "output_type": "stream",
     "text": [
      "0912-456-789-格式符合\n",
      "0912-456-789-gruop(0)\n",
      "0912-gruop(1)\n",
      "456-gruop(2)\n",
      "789-gruop(3)\n"
     ]
    }
   ],
   "source": [
    "import re\n",
    "phone_num = input(\"請輸入手機號碼(xxxx)-xxx-xxx,或者xxxx-xxx-xxx:\")\n",
    "phoneNumRegex:re.Pattern = re.compile(r'(\\(\\d\\d\\d\\d\\)|\\d\\d\\d\\d)-(\\d\\d\\d)-(\\d\\d\\d)')\n",
    "#Regex 是正規則表達式的簡寫\n",
    "# | 這個符號是或者的意思兩個都可以\n",
    "match1:re.Match | None = re.match(phoneNumRegex,phone_num)\n",
    "if match1 is not None:\n",
    "    print(f\"{match1.group()}-格式符合\")\n",
    "    print(f\"{match1.group(0)}-gruop(0)\")\n",
    "    print(f\"{match1.group(1)}-gruop(1)\")\n",
    "    print(f\"{match1.group(2)}-gruop(2)\")\n",
    "    print(f\"{match1.group(3)}-gruop(3)\")\n",
    "else:\n",
    "    print(\"格式不符\")"
   ]
  },
  {
   "cell_type": "code",
   "execution_count": 14,
   "metadata": {},
   "outputs": [
    {
     "name": "stdout",
     "output_type": "stream",
     "text": [
      "Batman\n"
     ]
    }
   ],
   "source": [
    "#使用pipe(|),選擇多選1\n",
    "#Match 就是比對開頭有沒有相符的字\n",
    "heroRegex:re.Pattern = re.compile(r'Batman|Tina Fey')\n",
    "match1:re.Match | None = heroRegex.match('Batman and Tina Fey') #實體方法\n",
    "print(match1.group())\n",
    "\n",
    "#match是比對(比對line3、4的差異)起頭有沒有這些字，會優先顯示有比對到的"
   ]
  },
  {
   "cell_type": "code",
   "execution_count": 15,
   "metadata": {},
   "outputs": [
    {
     "name": "stdout",
     "output_type": "stream",
     "text": [
      "Tina Fey\n"
     ]
    }
   ],
   "source": [
    "#會表達括號內第一個抓到的\n",
    "heroRegex:re.Pattern = re.compile(r'Batman|Tina Fey')\n",
    "match1:re.Match | None= heroRegex.match('Tina Fey and Batman')\n",
    "print(match1.group())"
   ]
  },
  {
   "cell_type": "code",
   "execution_count": 18,
   "metadata": {},
   "outputs": [
    {
     "name": "stdout",
     "output_type": "stream",
     "text": [
      "格式不符\n"
     ]
    }
   ],
   "source": [
    "heroRegex:re.Pattern = re.compile(r'Batman|Tina Fey')\n",
    "match1:re.Match | None = heroRegex.match('123Tina Fey and Batman')\n",
    "if match1 is not None:\n",
    "    print(match1.group())\n",
    "else:\n",
    "    print(\"格式不符\")\n",
    "\n",
    "#沒有比對到的話會顯示None"
   ]
  },
  {
   "cell_type": "code",
   "execution_count": 45,
   "metadata": {},
   "outputs": [
    {
     "name": "stdout",
     "output_type": "stream",
     "text": [
      "Batmobile\n",
      "mobile\n"
     ]
    }
   ],
   "source": [
    "#search 是裡面所有的文字都會抓出來\n",
    "heroRegex:re.Pattern = re.compile(r'Bat(man|mobile|copter|bat)')\n",
    "match1:re.Match | None = heroRegex.match('Batmobile lost a wheel')\n",
    "if match1 is not None:\n",
    "    print(match1.group())\n",
    "    print(match1.group(1))   \n",
    "else:\n",
    "    print(\"格式不符\")"
   ]
  },
  {
   "cell_type": "code",
   "execution_count": 22,
   "metadata": {},
   "outputs": [
    {
     "name": "stdout",
     "output_type": "stream",
     "text": [
      "Batbat\n",
      "bat\n"
     ]
    }
   ],
   "source": [
    "heroRegex:re.Pattern = re.compile(r'Bat(man|mobile|copter|bat)')\n",
    "match1:re.Match | None = heroRegex.search('lost a wheel Batbat')\n",
    "if match1 is not None:\n",
    "    print(match1.group())\n",
    "    print(match1.group(1))\n",
    "else:\n",
    "    print(\"格式不符\")"
   ]
  },
  {
   "cell_type": "code",
   "execution_count": 26,
   "metadata": {},
   "outputs": [
    {
     "name": "stdout",
     "output_type": "stream",
     "text": [
      "Batman\n",
      "None\n",
      "Batwoman\n",
      "wo\n"
     ]
    }
   ],
   "source": [
    "#?,前面的可有可無\n",
    "heroRegex:re.Pattern = re.compile(r'Bat(wo)?man') #括號表示為一組字\n",
    "match1:re.Match | None = heroRegex.search('The Adventures of Batman')\n",
    "if match1 is not None:\n",
    "    print(match1.group())\n",
    "    print(match1.group(1))\n",
    "else:\n",
    "    print(\"格式不符\")\n",
    "\n",
    "match2:re.Match | None = heroRegex.search('The Adventures of Batwoman')\n",
    "if match2 is not None:\n",
    "    print(match2.group())\n",
    "    print(match2.group(1))\n",
    "else:\n",
    "    print(\"格式不符\")"
   ]
  },
  {
   "cell_type": "code",
   "execution_count": 28,
   "metadata": {},
   "outputs": [
    {
     "name": "stdout",
     "output_type": "stream",
     "text": [
      "Batman\n",
      "None\n",
      "Batwoman\n",
      "wo\n",
      "Batwowowowoman\n",
      "wo\n"
     ]
    }
   ],
   "source": [
    "#*,0或沒有限定數量\n",
    "heroRegex:re.Pattern = re.compile(r'Bat(wo)*man')\n",
    "match1:re.Match | None = heroRegex.search('The Adventures of Batman')\n",
    "if match1 is not None:\n",
    "    print(match1.group())\n",
    "    print(match1.group(1))\n",
    "else:\n",
    "    print(\"格式不符\")\n",
    "\n",
    "match2:re.Match | None = heroRegex.search('The Adventures of Batwoman')\n",
    "if match2 is not None:\n",
    "    print(match2.group())\n",
    "    print(match2.group(1))\n",
    "else:\n",
    "    print(\"格式不符\")\n",
    "\n",
    "match3:re.Match | None = heroRegex.search('The Adventures of Batwowowowoman')\n",
    "if match3 is not None:\n",
    "    print(match3.group())\n",
    "    print(match3.group(1))\n",
    "else:\n",
    "    print(\"格式不符\")"
   ]
  },
  {
   "cell_type": "code",
   "execution_count": 27,
   "metadata": {},
   "outputs": [
    {
     "name": "stdout",
     "output_type": "stream",
     "text": [
      "格式不符\n",
      "Batwoman\n",
      "wo\n",
      "Batwowowowoman\n",
      "wo\n"
     ]
    }
   ],
   "source": [
    "#+(加號),代表一個或沒有限定數量\n",
    "heroRegex:re.Pattern = re.compile(r'Bat(wo)+man')\n",
    "match1:re.Match | None = heroRegex.search('The Adventures of Batman')\n",
    "if match1 is not None:\n",
    "    print(match1.group())\n",
    "    print(match1.group(1))\n",
    "else:\n",
    "    print(\"格式不符\")\n",
    "\n",
    "match2:re.Match | None = heroRegex.search('The Adventures of Batwoman')\n",
    "if match2 is not None:\n",
    "    print(match2.group())\n",
    "    print(match2.group(1))\n",
    "else:\n",
    "    print(\"格式不符\")\n",
    "\n",
    "match3:re.Match | None = heroRegex.search('The Adventures of Batwowowowoman')\n",
    "if match3 is not None:\n",
    "    print(match3.group())\n",
    "    print(match3.group(1))\n",
    "else:\n",
    "    print(\"格式不符\")"
   ]
  },
  {
   "cell_type": "code",
   "execution_count": 30,
   "metadata": {},
   "outputs": [
    {
     "name": "stdout",
     "output_type": "stream",
     "text": [
      "格式不符\n",
      "Batwoman\n",
      "wo\n",
      "Batwowowowoman\n",
      "wo\n"
     ]
    }
   ],
   "source": [
    "#*,0或沒有限定數量\n",
    "heroRegex:re.Pattern = re.compile(r'Bat(wo)+man')\n",
    "match1:re.Match | None = heroRegex.search('The Adventures of Batman')\n",
    "if match1 is not None:\n",
    "    print(match1.group())\n",
    "    print(match1.group(1))\n",
    "else:\n",
    "    print(\"格式不符\")\n",
    "\n",
    "match2:re.Match | None = heroRegex.search('The Adventures of Batwoman')\n",
    "if match2 is not None:\n",
    "    print(match2.group())\n",
    "    print(match2.group(1))\n",
    "else:\n",
    "    print(\"格式不符\")\n",
    "\n",
    "match3:re.Match | None = heroRegex.search('The Adventures of Batwowowowoman')\n",
    "if match3 is not None:\n",
    "    print(match3.group())\n",
    "    print(match3.group(1))\n",
    "else:\n",
    "    print(\"格式不符\")"
   ]
  },
  {
   "cell_type": "code",
   "execution_count": 29,
   "metadata": {},
   "outputs": [
    {
     "name": "stdout",
     "output_type": "stream",
     "text": [
      "hahaha\n",
      "ha\n",
      "hahaha\n",
      "ha\n",
      "格式不符\n"
     ]
    }
   ],
   "source": [
    "'''\n",
    "(ha){3} -> 3次\n",
    "(ha){3,5} -> 3-5次\n",
    "(ha){,5} -> 0-5次\n",
    "(ha){3,} -> 3次以上\n",
    "'''\n",
    "\n",
    "heroRegex:re.Pattern = re.compile(r'(ha){3}')\n",
    "match1:re.Match | None = heroRegex.search('hahaha')\n",
    "if match1 is not None:\n",
    "    print(match1.group())\n",
    "    print(match1.group(1))\n",
    "else:\n",
    "    print(\"格式不符\")\n",
    "\n",
    "match2:re.Match | None = heroRegex.search('hahahaha')\n",
    "if match2 is not None:\n",
    "    print(match2.group())\n",
    "    print(match2.group(1))\n",
    "else:\n",
    "    print(\"格式不符\")\n",
    "\n",
    "match3:re.Match | None = heroRegex.search('haha')\n",
    "if match3 is not None:\n",
    "    print(match3.group())\n",
    "    print(match3.group(1))\n",
    "else:\n",
    "    print(\"格式不符\")"
   ]
  },
  {
   "cell_type": "code",
   "execution_count": 35,
   "metadata": {},
   "outputs": [
    {
     "name": "stdout",
     "output_type": "stream",
     "text": [
      "415-555-9999\n"
     ]
    }
   ],
   "source": [
    "phoneNumRegex = re.compile(r'\\d\\d\\d-\\d\\d\\d-\\d\\d\\d\\d')\n",
    "match1 = phoneNumRegex.search('Cell: 415-555-9999 Work:212-555-0000')\n",
    "print(match1.group())\n"
   ]
  },
  {
   "cell_type": "code",
   "execution_count": 32,
   "metadata": {},
   "outputs": [
    {
     "name": "stdout",
     "output_type": "stream",
     "text": [
      "['415-555-9999', '212-555-0000']\n"
     ]
    }
   ],
   "source": [
    "#findall 類型為list 找到所有相符的\n",
    "phoneNumRegex = re.compile(r'\\d\\d\\d-\\d\\d\\d-\\d\\d\\d\\d')\n",
    "li = phoneNumRegex.findall('Cell: 415-555-9999 Work:212-555-0000')\n",
    "print(li)"
   ]
  },
  {
   "cell_type": "code",
   "execution_count": 33,
   "metadata": {},
   "outputs": [
    {
     "name": "stdout",
     "output_type": "stream",
     "text": [
      "[('415', '555', '9999'), ('212', '555', '0000')]\n"
     ]
    }
   ],
   "source": [
    "phoneNumRegex = re.compile(r'(\\d\\d\\d)-(\\d\\d\\d)-(\\d\\d\\d\\d)')\n",
    "li = phoneNumRegex.findall('Cell: 415-555-9999 Work:212-555-0000')\n",
    "print(li)"
   ]
  }
 ],
 "metadata": {
  "kernelspec": {
   "display_name": "Python 3",
   "language": "python",
   "name": "python3"
  },
  "language_info": {
   "codemirror_mode": {
    "name": "ipython",
    "version": 3
   },
   "file_extension": ".py",
   "mimetype": "text/x-python",
   "name": "python",
   "nbconvert_exporter": "python",
   "pygments_lexer": "ipython3",
   "version": "3.10.14"
  }
 },
 "nbformat": 4,
 "nbformat_minor": 2
}
