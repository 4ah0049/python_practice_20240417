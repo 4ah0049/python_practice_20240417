{
 "cells": [
  {
   "cell_type": "code",
   "execution_count": 1,
   "metadata": {},
   "outputs": [
    {
     "name": "stdout",
     "output_type": "stream",
     "text": [
      "71\n",
      "===========猜數字遊戲========\n",
      "\n",
      "猜數字的範圍1~100:Blank values are not allowed.\n",
      "猜數字的範圍1~100:你輸入為50,在大一點,\n",
      "你已經猜了1次\n",
      "猜數字的範圍51~100:你輸入為50,在大一點,\n",
      "你已經猜了2次\n",
      "猜數字的範圍51~100:你輸入為90,在小一點,\n",
      "你已經猜了3次\n",
      "猜數字的範圍51~89:你輸入為90,在小一點,\n",
      "你已經猜了4次\n",
      "猜數字的範圍51~89:賓果,恭喜猜對了,答案是71\n",
      "你總共猜了5次\n",
      "遊戲結束\n"
     ]
    }
   ],
   "source": [
    "import pyinputplus as pyip\n",
    "import random\n",
    "\n",
    "min=1\n",
    "max=100\n",
    "count=0\n",
    "target=random.randint(min,max)\n",
    "print(target)\n",
    "print('===========猜數字遊戲========\\n')\n",
    "\n",
    "while True:\n",
    "    count+=1\n",
    "    keyin=pyip.inputInt(f'猜數字的範圍{min}~{max}:')\n",
    "    if keyin == target:\n",
    "        print(f'賓果,恭喜猜對了,答案是{target}')\n",
    "        print(f'你總共猜了{count}次')\n",
    "        break\n",
    "    elif keyin>target:\n",
    "        print(f'你輸入為{keyin},在小一點,')\n",
    "        max=keyin-1\n",
    "    elif keyin<target:\n",
    "        print(f'你輸入為{keyin},在大一點,')\n",
    "        min=keyin+1\n",
    "    print(f'你已經猜了{count}次')\n",
    "print('遊戲結束')"
   ]
  },
  {
   "cell_type": "code",
   "execution_count": 4,
   "metadata": {},
   "outputs": [
    {
     "name": "stdout",
     "output_type": "stream",
     "text": [
      "還要繼續玩遊戲嗎?'a' is not a valid yes/no response.\n",
      "還要繼續玩遊戲嗎?'b' is not a valid yes/no response.\n",
      "還要繼續玩遊戲嗎?'o' is not a valid yes/no response.\n",
      "還要繼續玩遊戲嗎?'是' is not a valid yes/no response.\n",
      "還要繼續玩遊戲嗎?yes\n",
      "還要繼續玩遊戲嗎?遊戲結束\n"
     ]
    }
   ],
   "source": [
    "import pyinputplus as pyip\n",
    "while True:\n",
    "    play_again=pyip.inputYesNo('還要繼續玩遊戲嗎?')\n",
    "    if play_again=='no':\n",
    "        break\n",
    "    print(play_again)\n",
    "print('遊戲結束')"
   ]
  },
  {
   "cell_type": "code",
   "execution_count": 7,
   "metadata": {},
   "outputs": [
    {
     "name": "stdout",
     "output_type": "stream",
     "text": [
      "{}\n",
      "=========\n"
     ]
    },
    {
     "ename": "TypeError",
     "evalue": "menu() takes 0 positional arguments but 1 was given",
     "output_type": "error",
     "traceback": [
      "\u001b[0;31m---------------------------------------------------------------------------\u001b[0m",
      "\u001b[0;31mTypeError\u001b[0m                                 Traceback (most recent call last)",
      "Cell \u001b[0;32mIn[7], line 7\u001b[0m\n\u001b[1;32m      5\u001b[0m menu()\n\u001b[1;32m      6\u001b[0m \u001b[38;5;28mprint\u001b[39m(\u001b[38;5;124m\"\u001b[39m\u001b[38;5;124m=========\u001b[39m\u001b[38;5;124m\"\u001b[39m)\n\u001b[0;32m----> 7\u001b[0m \u001b[43mmenu\u001b[49m\u001b[43m(\u001b[49m\u001b[38;5;124;43m'\u001b[39;49m\u001b[38;5;124;43m雞排\u001b[39;49m\u001b[38;5;124;43m'\u001b[39;49m\u001b[43m)\u001b[49m\n\u001b[1;32m      8\u001b[0m \u001b[38;5;28mprint\u001b[39m(\u001b[38;5;124m\"\u001b[39m\u001b[38;5;124m=========\u001b[39m\u001b[38;5;124m\"\u001b[39m)\n\u001b[1;32m      9\u001b[0m menu(\u001b[38;5;124m'\u001b[39m\u001b[38;5;124m雞排\u001b[39m\u001b[38;5;124m'\u001b[39m,\u001b[38;5;124m'\u001b[39m\u001b[38;5;124m紅酒\u001b[39m\u001b[38;5;124m'\u001b[39m)\n",
      "\u001b[0;31mTypeError\u001b[0m: menu() takes 0 positional arguments but 1 was given"
     ]
    }
   ],
   "source": [
    "#沒有限定數量的引數值呼叫\n",
    "def menu(**kind:str)->None:\n",
    "    print(kind)\n",
    "\n",
    "menu()\n",
    "print(\"=========\")\n",
    "menu('雞排')\n",
    "print(\"=========\")\n",
    "menu('雞排','紅酒')\n",
    "print(\"==========\")\n",
    "menu('雞排','紅酒','奶昔')"
   ]
  },
  {
   "cell_type": "code",
   "execution_count": 6,
   "metadata": {},
   "outputs": [
    {
     "name": "stdout",
     "output_type": "stream",
     "text": [
      "()\n",
      "=========\n"
     ]
    },
    {
     "ename": "TypeError",
     "evalue": "menu() got an unexpected keyword argument 'entree'",
     "output_type": "error",
     "traceback": [
      "\u001b[0;31m---------------------------------------------------------------------------\u001b[0m",
      "\u001b[0;31mTypeError\u001b[0m                                 Traceback (most recent call last)",
      "Cell \u001b[0;32mIn[6], line 7\u001b[0m\n\u001b[1;32m      5\u001b[0m menu()\n\u001b[1;32m      6\u001b[0m \u001b[38;5;28mprint\u001b[39m(\u001b[38;5;124m\"\u001b[39m\u001b[38;5;124m=========\u001b[39m\u001b[38;5;124m\"\u001b[39m)\n\u001b[0;32m----> 7\u001b[0m \u001b[43mmenu\u001b[49m\u001b[43m(\u001b[49m\u001b[43mentree\u001b[49m\u001b[38;5;241;43m=\u001b[39;49m\u001b[38;5;124;43m'\u001b[39;49m\u001b[38;5;124;43m雞排\u001b[39;49m\u001b[38;5;124;43m'\u001b[39;49m\u001b[43m)\u001b[49m\n\u001b[1;32m      8\u001b[0m \u001b[38;5;28mprint\u001b[39m(\u001b[38;5;124m\"\u001b[39m\u001b[38;5;124m=========\u001b[39m\u001b[38;5;124m\"\u001b[39m)\n\u001b[1;32m      9\u001b[0m menu(entree\u001b[38;5;241m=\u001b[39m\u001b[38;5;124m'\u001b[39m\u001b[38;5;124m雞排\u001b[39m\u001b[38;5;124m'\u001b[39m,wine\u001b[38;5;241m=\u001b[39m\u001b[38;5;124m'\u001b[39m\u001b[38;5;124m紅酒\u001b[39m\u001b[38;5;124m'\u001b[39m)\n",
      "\u001b[0;31mTypeError\u001b[0m: menu() got an unexpected keyword argument 'entree'"
     ]
    }
   ],
   "source": [
    "#沒有限定數量的引數名稱呼叫\n",
    "def menu(**kind:str)->None:\n",
    "    print(kind)\n",
    "\n",
    "menu()\n",
    "print(\"=========\")\n",
    "menu(entree='雞排')\n",
    "print(\"=========\")\n",
    "menu(entree='雞排',wine='紅酒')\n",
    "print(\"==========\")\n",
    "menu(entree='雞排',wind='紅酒',dessert='奶昔')"
   ]
  },
  {
   "cell_type": "code",
   "execution_count": 5,
   "metadata": {},
   "outputs": [
    {
     "name": "stdout",
     "output_type": "stream",
     "text": [
      "(1, 2, 3, 5, 4)\n",
      "{'one': 1, 'two': 2, 'three': 3}\n"
     ]
    }
   ],
   "source": [
    "def menu(*args:str,**kwargs:str)->None:\n",
    "    print(args)\n",
    "    print(kwargs)\n",
    "\n",
    "menu(1,2,3,5,4,one=1,two=2,three=3)"
   ]
  }
 ],
 "metadata": {
  "kernelspec": {
   "display_name": "Python 3",
   "language": "python",
   "name": "python3"
  },
  "language_info": {
   "codemirror_mode": {
    "name": "ipython",
    "version": 3
   },
   "file_extension": ".py",
   "mimetype": "text/x-python",
   "name": "python",
   "nbconvert_exporter": "python",
   "pygments_lexer": "ipython3",
   "version": "3.10.14"
  }
 },
 "nbformat": 4,
 "nbformat_minor": 2
}
