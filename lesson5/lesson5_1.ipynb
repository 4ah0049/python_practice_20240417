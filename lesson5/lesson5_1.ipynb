{
 "cells": [
  {
   "cell_type": "code",
   "execution_count": 5,
   "metadata": {
    "metadata": {}
   },
   "outputs": [
    {
     "name": "stdout",
     "output_type": "stream",
     "text": [
      "調查結束\n"
     ]
    }
   ],
   "source": [
    "age:int= 16 \n",
    "if age>=18:\n",
    "    print('可以考駕照')\n",
    "    print('可以投票')\n",
    "print('調查結束')\n"
   ]
  },
  {
   "cell_type": "markdown",
   "metadata": {},
   "source": [
    "- 輸入學生分數\n",
    "- 由你決定學生可不可以加5%"
   ]
  },
  {
   "cell_type": "code",
   "execution_count": 15,
   "metadata": {
    "metadata": {}
   },
   "outputs": [
    {
     "name": "stdout",
     "output_type": "stream",
     "text": [
      "學生分數是300\n"
     ]
    }
   ],
   "source": [
    "score:int|float=int(input('請輸入學生分數(最高300分)'))\n",
    "add=str.upper(input('由你決定學生可否加五%(y/n)'))\n",
    "if add=='Y':\n",
    "    score*=1.05\n",
    "    if score > 300:\n",
    "        score=300\n",
    "print(f'學生分數是{round(score)}')\n",
    "else:\n",
    "    \n",
    "  \n"
   ]
  },
  {
   "cell_type": "code",
   "execution_count": null,
   "metadata": {},
   "outputs": [],
   "source": [
    "score:int|float=int(input('請輸入學生分數(最高300分)'))\n",
    "add=input('由你決定學生可否加五%(y/n)')\n",
    "if add=='y':\n",
    "    score*=1.05\n",
    "print(f'學生分數是{score}')\n"
   ]
  },
  {
   "cell_type": "markdown",
   "metadata": {},
   "source": [
    "- 輸入學生分數,總分為300分\n",
    "- 檢查學生輸入的分數,是否大於300分\n",
    "- 由您決定學生可不可以加5%\n",
    "- 超過300分,以300分計算"
   ]
  },
  {
   "cell_type": "code",
   "execution_count": 26,
   "metadata": {
    "metadata": {}
   },
   "outputs": [
    {
     "name": "stdout",
     "output_type": "stream",
     "text": [
      "學生分數是300\n",
      "程式結束\n"
     ]
    }
   ],
   "source": [
    "try:\n",
    "    score:int|float=int(input('請輸入學生分數(最高300分)'))\n",
    "    if score <= 300:\n",
    "        add=str.upper(input('由你決定學生可否加五%(y/n)'))\n",
    "        if add=='Y':\n",
    "            score*=1.05295\n",
    "            if score > 300:\n",
    "                score=300\n",
    "        print(f'學生分數是{round(score)}')\n",
    "    else:\n",
    "        print(f'學生總分不可超過300分')\n",
    "except Exception as e:\n",
    "    print(f'輸入錯誤{e}')\n",
    "print('程式結束')"
   ]
  },
  {
   "cell_type": "code",
   "execution_count": 28,
   "metadata": {
    "metadata": {}
   },
   "outputs": [],
   "source": [
    "import pyinputplus as pyip"
   ]
  },
  {
   "cell_type": "code",
   "execution_count": null,
   "metadata": {},
   "outputs": [],
   "source": []
  }
 ],
 "metadata": {
  "kernelspec": {
   "display_name": "Python 3",
   "language": "python",
   "name": "python3"
  },
  "language_info": {
   "codemirror_mode": {
    "name": "ipython",
    "version": 3
   },
   "file_extension": ".py",
   "mimetype": "text/x-python",
   "name": "python",
   "nbconvert_exporter": "python",
   "pygments_lexer": "ipython3",
   "version": "3.10.14"
  }
 },
 "nbformat": 4,
 "nbformat_minor": 2
}
