{
 "cells": [
  {
   "cell_type": "code",
   "execution_count": null,
   "metadata": {},
   "outputs": [],
   "source": [
    "from pydantic import RootModel \n",
    "\n",
    "class Pets(RootModel):\n",
    "    root: list[str] \n",
    "\n",
    "    def __iter__(self):\n",
    "        return iter(self.root) #要讓Pets有list的功能可以讓for in 去抓\n",
    "\n",
    "    def __getitem__(self, item):\n",
    "        return self.root[item]\n",
    "    \n",
    "pets = Pets.model_validate(['dog', 'cat'])\n",
    "for pet in pets:\n",
    "    print(pet)\n",
    "\n",
    "pets[0]\n",
    "\n",
    "#如果根目錄是list就需要用要先做Basemodel在做rootmodel"
   ]
  },
  {
   "cell_type": "code",
   "execution_count": null,
   "metadata": {},
   "outputs": [],
   "source": [
    "#pydantic的validator\n",
    "\n",
    "from pydantic import RootModel,BaseModel,Field,field_validator\n",
    "\n",
    "class SiteName(BaseModel):\n",
    "    站點名稱:str = Field(alias='sitename')\n",
    "    城市:str = Field(alias='county')\n",
    "    aqi:int\n",
    "    品質:str = Field(alias='status')\n",
    "    pm25:float =  Field(alias='pm2.5',field_validator=False) #使用DictReader轉過來的值類型是str,有空字串\n",
    "\n",
    "    #自訂的驗證\n",
    "    @field_validator(\"pm25\",mode='before') #pydantic有自已的validator和自訂的validator,如果使用它的預設是先做預設的validator,目前欄位內會有空字串'',轉成float會出錯,所以必需先讓自訂的validator先運做,mode='before'\n",
    "    @classmethod\n",
    "    def whitespace_to_zero(cls,value):\n",
    "        #print(f'{type(value)=}') #value值可以知道預設還是自訂的validator先做\n",
    "        if value == '':\n",
    "            return '0.0'\n",
    "        else:\n",
    "            return value\n",
    "\n",
    "class AQI(RootModel):\n",
    "    root:list[SiteName]\n",
    "\n",
    "    def __iter__(self):\n",
    "        return iter(self.root)\n",
    "    \n",
    "    def __getItem__(self,item):\n",
    "        return self.root[item]\n",
    "    \n",
    "from csv import DictReader\n",
    "with open('空氣品質aqi.csv',encoding='utf-8',newline='') as csvFile:\n",
    "    dictReader:DictReader = DictReader(csvFile)\n",
    "    taiwanAQI = AQI(dictReader)\n",
    "\n",
    "for site in taiwanAQI:\n",
    "    print(site)"
   ]
  },
  {
   "cell_type": "code",
   "execution_count": null,
   "metadata": {},
   "outputs": [],
   "source": [
    "#實作for_in迴圈,__iter__(self),必需傳出interator物件,使用iter()會傳出iter的物件\n",
    "def __iter__(self):\n",
    "        return iter(self.root)\n",
    "\n",
    "#實作subscript[]\n",
    "def __getitem__(self, item):\n",
    "        return self.root[item]"
   ]
  }
 ],
 "metadata": {
  "kernelspec": {
   "display_name": "Python 3",
   "language": "python",
   "name": "python3"
  },
  "language_info": {
   "name": "python",
   "version": "3.10.14"
  }
 },
 "nbformat": 4,
 "nbformat_minor": 2
}
