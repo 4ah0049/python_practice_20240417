{
 "cells": [
  {
   "cell_type": "code",
   "execution_count": 1,
   "metadata": {},
   "outputs": [
    {
     "name": "stdout",
     "output_type": "stream",
     "text": [
      "蛋糕\n",
      "三明治\n",
      "漢堡\n",
      "飯糰\n"
     ]
    }
   ],
   "source": [
    "早餐=['蛋糕','三明治','漢堡','飯糰']\n",
    "編號=0\n",
    "while 編號<len(早餐):\n",
    "    print(早餐[編號])\n",
    "    編號+=1"
   ]
  },
  {
   "cell_type": "code",
   "execution_count": 13,
   "metadata": {},
   "outputs": [
    {
     "name": "stdout",
     "output_type": "stream",
     "text": [
      "13輸入的價格為12的答案比較接近價格\n",
      "13輸入的價格為15的答案比較接近價格\n",
      "13輸入的價格為15的答案比較接近價格\n",
      "遊戲結束!正確的商品價格為1000,13的答案比較接近價格\n"
     ]
    }
   ],
   "source": [
    "#猜商品價格遊戲\n",
    "price=1000\n",
    "A_player=str.upper(input('請輸入第一位玩家的暱稱'))\n",
    "B_player=str.upper(input('請輸入第二位玩家的暱稱'))\n",
    "回答次數=1\n",
    "總次數=3\n",
    "while 回答次數<=總次數:\n",
    "    A_ans=int(input(f'請{A_player}輸入商品價格'))\n",
    "    B_ans=int(input(f'請{B_player}輸入商品價格'))\n",
    "    if A_ans==price or B_ans==price:\n",
    "        break\n",
    "    elif abs(price-A_ans)<abs(price-B_ans):\n",
    "        print(f'{A_player}輸入的價格為{A_ans}答案比較接近價格')\n",
    "    else:\n",
    "        print(f'{B_player}輸入的價格為{B_ans}的答案比較接近價格')\n",
    "    回答次數+=1\n",
    "if A_ans==price:\n",
    "    print(f'{A_player}猜對了!,{A_player}Win')\n",
    "elif B_ans==price:\n",
    "    print(f'{B_player}猜對了!,{B_player}Win')\n",
    "elif abs(price-A_ans)<abs(price-B_ans):\n",
    "    print(f'遊戲結束!正確的商品價格為{price},{A_player}的答案比較接近價格')\n",
    "else:\n",
    "    print(f'遊戲結束!正確的商品價格為{price},{B_player}的答案比較接近價格')"
   ]
  }
 ],
 "metadata": {
  "kernelspec": {
   "display_name": "Python 3",
   "language": "python",
   "name": "python3"
  },
  "language_info": {
   "codemirror_mode": {
    "name": "ipython",
    "version": 3
   },
   "file_extension": ".py",
   "mimetype": "text/x-python",
   "name": "python",
   "nbconvert_exporter": "python",
   "pygments_lexer": "ipython3",
   "version": "3.10.14"
  }
 },
 "nbformat": 4,
 "nbformat_minor": 2
}
