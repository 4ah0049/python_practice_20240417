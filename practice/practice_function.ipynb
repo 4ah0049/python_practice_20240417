{
 "cells": [
  {
   "cell_type": "code",
   "execution_count": 3,
   "metadata": {},
   "outputs": [
    {
     "name": "stdout",
     "output_type": "stream",
     "text": [
      "Hello world\n"
     ]
    }
   ],
   "source": [
    "def hello():\n",
    "    print('Hello world')\n",
    "\n",
    "hello()"
   ]
  },
  {
   "cell_type": "code",
   "execution_count": 5,
   "metadata": {},
   "outputs": [
    {
     "name": "stdout",
     "output_type": "stream",
     "text": [
      "嗨，小名你好\n"
     ]
    }
   ],
   "source": [
    "def 打招呼(姓名):\n",
    "    print(f'嗨，{姓名}你好')\n",
    "\n",
    "打招呼('小名')"
   ]
  },
  {
   "cell_type": "code",
   "execution_count": 6,
   "metadata": {},
   "outputs": [
    {
     "name": "stdout",
     "output_type": "stream",
     "text": [
      "小名,今年是20歲\n"
     ]
    }
   ],
   "source": [
    "#函式可以擁有不只一個引數\n",
    "ef 打招呼(姓名,年紀):\n",
    "    print(f'{姓名},今年是{年紀}歲')\n",
    "\n",
    "打招呼('小名',20)"
   ]
  },
  {
   "cell_type": "code",
   "execution_count": 8,
   "metadata": {},
   "outputs": [
    {
     "name": "stdout",
     "output_type": "stream",
     "text": [
      "總金額為950元\n"
     ]
    }
   ],
   "source": [
    "折扣=0.9\n",
    "def 總金額(售價,運費=50):\n",
    "    return int(售價*折扣+運費)\n",
    "print(f'總金額為{總金額(售價=1000)}元')\n",
    "\n",
    "#在函數中放在return後面的程式碼都會被忽略"
   ]
  },
  {
   "cell_type": "code",
   "execution_count": 19,
   "metadata": {},
   "outputs": [
    {
     "name": "stdout",
     "output_type": "stream",
     "text": [
      "5乘5等於25\n",
      "拜拜\n"
     ]
    }
   ],
   "source": [
    "#設計一台計算機\n",
    "def 加法(x,y):\n",
    "    return x+y\n",
    "def 減法(x,y):\n",
    "    return x-y\n",
    "def 乘法(x,y):\n",
    "    return x*y\n",
    "def 除法(x,y):\n",
    "    商數=x//y\n",
    "    餘數=x % y\n",
    "    return 商數,餘數\n",
    "while True:\n",
    "    計算類型=input('請輸入要計算的類型(1)加法(2)減法(3)乘法(4)除法(或按任意鍵關閉程式)')\n",
    "    if 計算類型 in (\"1\",\"2\",\"3\",\"4\"):\n",
    "        數字1=int(input('請輸入第一個整數'))\n",
    "        數字2=int(input('請輸入第二個整數'))\n",
    "        if 計算類型 ==\"1\":\n",
    "            print(f'{數字1}加{數字2}等於{加法(數字1,數字2)}')\n",
    "        elif 計算類型==\"2\":\n",
    "            print(f'{數字1}減{數字2}等於{減法(數字1,數字2)}')\n",
    "        elif 計算類型==\"3\":\n",
    "            print(f'{數字1}乘{數字2}等於{乘法(數字1,數字2)}')\n",
    "        elif 計算類型==\"4\":\n",
    "            if 數字1%數字2==0:\n",
    "                print(f'{數字1}除以{數字2}等於{除法(數字1,數字2)[0]}')\n",
    "            else:\n",
    "                print(f'{數字1}除以{數字2}等於{除法(數字1,數字2)[0]}餘{除法(數字1,數字2)[1]}')       \n",
    "    else:\n",
    "        print('拜拜')\n",
    "        break"
   ]
  }
 ],
 "metadata": {
  "kernelspec": {
   "display_name": "Python 3",
   "language": "python",
   "name": "python3"
  },
  "language_info": {
   "codemirror_mode": {
    "name": "ipython",
    "version": 3
   },
   "file_extension": ".py",
   "mimetype": "text/x-python",
   "name": "python",
   "nbconvert_exporter": "python",
   "pygments_lexer": "ipython3",
   "version": "3.10.14"
  }
 },
 "nbformat": 4,
 "nbformat_minor": 2
}
