{
 "cells": [
  {
   "cell_type": "markdown",
   "metadata": {},
   "source": [
    "## 輸出->print\n",
    "## 輸入->input"
   ]
  },
  {
   "cell_type": "code",
   "execution_count": 11,
   "metadata": {},
   "outputs": [
    {
     "name": "stdout",
     "output_type": "stream",
     "text": [
      "<class 'str'>\n",
      "150.0\n",
      "矩形的寬是10cm,長是15cm,面積是150.0cm2\n"
     ]
    }
   ],
   "source": [
    "寬:str = input('請輸入矩形寬')\n",
    "print(type(寬))\n",
    "長:str = input('請輸入矩形長')\n",
    "area= float(寬)*float(長)\n",
    "print(area)\n",
    "print(f'矩形的寬是{寬}cm,長是{長}cm,面積是{area}cm2')"
   ]
  },
  {
   "cell_type": "markdown",
   "metadata": {},
   "source": [
    "## 計算圓面積"
   ]
  },
  {
   "cell_type": "code",
   "execution_count": 23,
   "metadata": {},
   "outputs": [
    {
     "name": "stdout",
     "output_type": "stream",
     "text": [
      "計算圓面積\n",
      "圓面積是314.16平方公分:\n",
      "圓面積是314.16平方公分\n"
     ]
    }
   ],
   "source": [
    "print('計算圓面積')\n",
    "半徑 = float(input('請輸入半徑'))\n",
    "圓周率 = 3.14159\n",
    "圓面積 = 半徑**2*圓周率\n",
    "print(f'圓面積是{半徑**2*圓周率:.2f}平方公分:')\n",
    "print(f'圓面積是{圓面積:.2f}平方公分')"
   ]
  },
  {
   "cell_type": "code",
   "execution_count": 25,
   "metadata": {},
   "outputs": [
    {
     "name": "stdout",
     "output_type": "stream",
     "text": [
      "計算圓面積\n",
      "圓面積是314.16平方公分:\n",
      "圓面積是314.15927平方公分\n"
     ]
    }
   ],
   "source": [
    "import math\n",
    "print('計算圓面積')\n",
    "半徑 = float(input('請輸入半徑'))\n",
    "圓周率 = math.pi\n",
    "圓面積 = 半徑**2*圓周率\n",
    "print(f'圓面積是{半徑**2*圓周率:.2f}平方公分:')\n",
    "print(f'圓面積是{圓面積:.5f}平方公分')"
   ]
  }
 ],
 "metadata": {
  "kernelspec": {
   "display_name": "Python 3",
   "language": "python",
   "name": "python3"
  },
  "language_info": {
   "codemirror_mode": {
    "name": "ipython",
    "version": 3
   },
   "file_extension": ".py",
   "mimetype": "text/x-python",
   "name": "python",
   "nbconvert_exporter": "python",
   "pygments_lexer": "ipython3",
   "version": "3.10.14"
  }
 },
 "nbformat": 4,
 "nbformat_minor": 2
}
