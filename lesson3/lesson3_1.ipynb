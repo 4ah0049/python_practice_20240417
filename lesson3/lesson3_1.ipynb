{
 "cells": [
  {
   "cell_type": "markdown",
   "metadata": {},
   "source": [
    "## 純值的運算"
   ]
  },
  {
   "cell_type": "code",
   "execution_count": 5,
   "metadata": {},
   "outputs": [
    {
     "data": {
      "text/plain": [
       "15"
      ]
     },
     "execution_count": 5,
     "metadata": {},
     "output_type": "execute_result"
    }
   ],
   "source": [
    "#完全沒有意義\n",
    "5+5\n",
    "5.0+10\n",
    "int('5')+10"
   ]
  },
  {
   "cell_type": "code",
   "execution_count": 17,
   "metadata": {},
   "outputs": [],
   "source": [
    "num1 = 5+5\n",
    "num2 = 5.0+10\n",
    "num3 = int('5')+10"
   ]
  },
  {
   "cell_type": "code",
   "execution_count": 19,
   "metadata": {},
   "outputs": [
    {
     "name": "stdout",
     "output_type": "stream",
     "text": [
      "10\n",
      "15.0\n",
      "15\n"
     ]
    }
   ],
   "source": [
    "print(num1)\n",
    "print(num2)\n",
    "print(num3)"
   ]
  },
  {
   "cell_type": "markdown",
   "metadata": {},
   "source": [
    "## 第一個字不可以是數字\n",
    "## 特殊符號只可以使用_(底線)"
   ]
  },
  {
   "cell_type": "code",
   "execution_count": 23,
   "metadata": {},
   "outputs": [
    {
     "data": {
      "text/plain": [
       "15"
      ]
     },
     "execution_count": 23,
     "metadata": {},
     "output_type": "execute_result"
    }
   ],
   "source": [
    "_a1 = 5\n",
    "_a2 = 10\n",
    "_a3 = _a1+_a2\n",
    "_a3"
   ]
  },
  {
   "cell_type": "markdown",
   "metadata": {},
   "source": [
    "## python 使用的是動態型別"
   ]
  },
  {
   "cell_type": "code",
   "execution_count": 28,
   "metadata": {},
   "outputs": [
    {
     "name": "stdout",
     "output_type": "stream",
     "text": [
      "<class 'int'>\n",
      "<class 'float'>\n",
      "<class 'str'>\n",
      "<class 'bool'>\n"
     ]
    }
   ],
   "source": [
    "n=10\n",
    "type(n)\n",
    "print(type(n))\n",
    "n=10.0\n",
    "print(type(n))\n",
    "n=\"10\"\n",
    "print(type(n))\n",
    "n=True\n",
    "print(type(n))"
   ]
  },
  {
   "cell_type": "markdown",
   "metadata": {},
   "source": [
    "## type hint"
   ]
  },
  {
   "cell_type": "code",
   "execution_count": 31,
   "metadata": {},
   "outputs": [
    {
     "name": "stdout",
     "output_type": "stream",
     "text": [
      "10\n",
      "10.0\n",
      "ben\n",
      "True\n"
     ]
    }
   ],
   "source": [
    "n:int = 10\n",
    "n1:float = 10.0\n",
    "name:str='ben'\n",
    "is_ok:bool = True\n",
    "\n",
    "print(n)\n",
    "print(n1)\n",
    "print(name)\n",
    "print(is_ok)"
   ]
  },
  {
   "cell_type": "markdown",
   "metadata": {},
   "source": [
    "## 字串與變數的整合"
   ]
  },
  {
   "cell_type": "code",
   "execution_count": 43,
   "metadata": {},
   "outputs": [
    {
     "name": "stdout",
     "output_type": "stream",
     "text": [
      "矩形的寬是24.5\n",
      "矩形的高是10.9\n",
      "面積是267.05\n"
     ]
    },
    {
     "data": {
      "text/plain": [
       "'矩形的寬是24.5,矩形的高是10.9,面積是267.05'"
      ]
     },
     "execution_count": 43,
     "metadata": {},
     "output_type": "execute_result"
    }
   ],
   "source": [
    "寬:float = 24.5\n",
    "高:float = 10.9\n",
    "面積:float = 寬*高\n",
    "\n",
    "print('矩形的寬是'+ str(寬))\n",
    "print('矩形的高是'+str (高))\n",
    "print('面積是'+str(面積))\n",
    "'矩形的寬是'+ str(寬)+',矩形的高是'+str (高)+',面積是'+str(面積)"
   ]
  },
  {
   "cell_type": "markdown",
   "metadata": {},
   "source": [
    "## 字串與變數的整合(字串插補)"
   ]
  },
  {
   "cell_type": "code",
   "execution_count": null,
   "metadata": {},
   "outputs": [],
   "source": []
  }
 ],
 "metadata": {
  "kernelspec": {
   "display_name": "Python 3",
   "language": "python",
   "name": "python3"
  },
  "language_info": {
   "codemirror_mode": {
    "name": "ipython",
    "version": 3
   },
   "file_extension": ".py",
   "mimetype": "text/x-python",
   "name": "python",
   "nbconvert_exporter": "python",
   "pygments_lexer": "ipython3",
   "version": "3.10.14"
  }
 },
 "nbformat": 4,
 "nbformat_minor": 2
}
