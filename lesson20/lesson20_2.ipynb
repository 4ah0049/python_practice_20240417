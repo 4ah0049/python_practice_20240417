{
 "cells": [
  {
   "cell_type": "code",
   "execution_count": 4,
   "metadata": {},
   "outputs": [
    {
     "name": "stdout",
     "output_type": "stream",
     "text": [
      "<class 'pandas.core.frame.DataFrame'>\n",
      "MultiIndex: 86552 entries, (Timestamp('2022-01-01 00:00:00'), 900) to (Timestamp('2022-12-31 00:00:00'), 7390)\n",
      "Data columns (total 2 columns):\n",
      " #   Column  Non-Null Count  Dtype\n",
      "---  ------  --------------  -----\n",
      " 0   進站      86552 non-null  int64\n",
      " 1   出站      86552 non-null  int64\n",
      "dtypes: int64(2)\n",
      "memory usage: 1.7 MB\n"
     ]
    }
   ],
   "source": [
    "import pandas as pd\n",
    "import numpy as np\n",
    "\n",
    "df1=pd.read_csv('每日各站進出站人數2022.csv')\n",
    "df1.columns=['日期','code','進站','出站']\n",
    "df1['日期']=pd.to_datetime(df1['日期'],format='%Y%m%d')\n",
    "df2=df1.set_index(keys=['日期','code'])\n",
    "df2.columns.name='進出站人數'\n",
    "df2.info()\n",
    "\n"
   ]
  },
  {
   "cell_type": "code",
   "execution_count": 7,
   "metadata": {},
   "outputs": [
    {
     "data": {
      "text/plain": [
       "日期          code  進出站人數\n",
       "2022-01-01  900   進站       8645\n",
       "                  出站       8526\n",
       "            910   進站        996\n",
       "                  出站       1243\n",
       "            920   進站       1369\n",
       "                           ... \n",
       "2022-12-31  7362  出站        159\n",
       "            7380  進站        494\n",
       "                  出站        426\n",
       "            7390  進站        313\n",
       "                  出站        274\n",
       "Length: 173104, dtype: int64"
      ]
     },
     "execution_count": 7,
     "metadata": {},
     "output_type": "execute_result"
    }
   ],
   "source": [
    "#先變成堆疊資料\n",
    "stack_data=df2.stack()\n",
    "stack_data"
   ]
  },
  {
   "cell_type": "code",
   "execution_count": 9,
   "metadata": {},
   "outputs": [
    {
     "data": {
      "text/plain": [
       "進出站人數\n",
       "出站    175359623\n",
       "進站    175359623\n",
       "dtype: int64"
      ]
     },
     "execution_count": 9,
     "metadata": {},
     "output_type": "execute_result"
    }
   ],
   "source": [
    "stack_data.groupby(level='進出站人數').sum()"
   ]
  }
 ],
 "metadata": {
  "kernelspec": {
   "display_name": "Python 3",
   "language": "python",
   "name": "python3"
  },
  "language_info": {
   "codemirror_mode": {
    "name": "ipython",
    "version": 3
   },
   "file_extension": ".py",
   "mimetype": "text/x-python",
   "name": "python",
   "nbconvert_exporter": "python",
   "pygments_lexer": "ipython3",
   "version": "3.10.14"
  }
 },
 "nbformat": 4,
 "nbformat_minor": 2
}
