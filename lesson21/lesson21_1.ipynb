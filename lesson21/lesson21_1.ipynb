{
 "cells": [
  {
   "cell_type": "markdown",
   "metadata": {},
   "source": [
    "## 確保應用程式的穩定性"
   ]
  },
  {
   "cell_type": "code",
   "execution_count": null,
   "metadata": {},
   "outputs": [],
   "source": [
    "import requests\n",
    "from requests import Response\n",
    "from pydantic import RootModel,BaseModel,Field,field_validator\n",
    "from datetime import datetime\n",
    "import pandas as pd \n",
    "\n",
    "class Site (BaseModel):\n",
    "    行政區域:str = Field(alias='sarea')\n",
    "    總數量:int = Field(alias='total')\n",
    "    可借數量:int = Field(alias='available_rent_bikes') \n",
    "    可還數量:int = Field(alias='available_return_bikes')\n",
    "    時間:datetime = Field(alias='mday')\n",
    "\n",
    "    @field_validator('可借數量','可還數量',mode='before')\n",
    "    @classmethod\n",
    "    def whitespace_to_zero(cls, value: str) -> str:\n",
    "        return '0.0' if value == '' else value\n",
    "    \n",
    "class Youbike(RootModel):\n",
    "    root:list[Site]\n",
    "\n",
    "try:\n",
    "    youbike_url:Response= requests.get('https://tcgbusfs.blob.core.windows.net/dotapp/youbike/v2/youbike_immediate.json')\n",
    "    youbike_url.raise_for_status()\n",
    "except Exception as e:\n",
    "    print(e)\n",
    "else:\n",
    "    data = Youbike.model_validate_json(youbike_url.text)\n",
    "    all_sites = data.model_dump()\n",
    "\n",
    "df = pd.DataFrame(all_sites)\n",
    "df"
   ]
  }
 ],
 "metadata": {
  "kernelspec": {
   "display_name": "Python 3",
   "language": "python",
   "name": "python3"
  },
  "language_info": {
   "name": "python",
   "version": "3.10.14"
  }
 },
 "nbformat": 4,
 "nbformat_minor": 2
}
