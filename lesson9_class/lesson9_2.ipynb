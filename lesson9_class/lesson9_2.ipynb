{
 "cells": [
  {
   "cell_type": "code",
   "execution_count": null,
   "metadata": {},
   "outputs": [],
   "source": [
    "class Student():\n",
    "    def __init__(self,name:str,chinese:int,English:int,math:int):\n",
    "        super().__init__()\n",
    "        self.name=name\n",
    "        self.chinese=chinese\n",
    "        self.math=math"
   ]
  }
 ],
 "metadata": {
  "language_info": {
   "name": "python"
  }
 },
 "nbformat": 4,
 "nbformat_minor": 2
}
