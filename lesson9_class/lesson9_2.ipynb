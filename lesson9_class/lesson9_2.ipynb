{
 "cells": [
  {
   "cell_type": "code",
   "execution_count": 6,
   "metadata": {},
   "outputs": [
    {
     "name": "stdout",
     "output_type": "stream",
     "text": [
      "你的姓名林家宇\n",
      "國文:99\n",
      "英文:100\n",
      "數學:98\n",
      "\n"
     ]
    }
   ],
   "source": [
    "class Student():\n",
    "    def __init__(self,name:str,chinese:int,english:int,math:int):\n",
    "        super().__init__()\n",
    "        self.name=name #attribute\n",
    "        self.chinese=chinese #attribute\n",
    "        self.english=english #attribute\n",
    "        self.math=math #attribute\n",
    "\n",
    "    def __repr__(self) -> str:\n",
    "        message=f'你的姓名{self.name}\\n'\n",
    "        message+=f'國文:{self.chinese}\\n'\n",
    "        message+=f'英文:{self.english}\\n'\n",
    "        message+=f'數學:{self.math}\\n'\n",
    "        return message\n",
    "s1=Student(name='林家宇',chinese=99,english=100,math=98)\n",
    "print(s1)\n"
   ]
  },
  {
   "cell_type": "code",
   "execution_count": 7,
   "metadata": {},
   "outputs": [
    {
     "name": "stdout",
     "output_type": "stream",
     "text": [
      "你的姓名林家宇\n",
      "國文:99\n",
      "英文:100\n",
      "數學:98\n",
      "\n",
      "總分為297\n"
     ]
    }
   ],
   "source": [
    "#property\n",
    "class Student():\n",
    "    def __init__(self,name:str,chinese:int,english:int,math:int):\n",
    "        super().__init__()\n",
    "        self.name=name #attribute\n",
    "        self.chinese=chinese #attribute\n",
    "        self.english=english #attribute\n",
    "        self.math=math #attribute\n",
    "\n",
    "    def __repr__(self) -> str:\n",
    "        message=f'你的姓名{self.name}\\n'\n",
    "        message+=f'國文:{self.chinese}\\n'\n",
    "        message+=f'英文:{self.english}\\n'\n",
    "        message+=f'數學:{self.math}\\n'\n",
    "        return message\n",
    "    \n",
    "    #建立property的語法\n",
    "    @property\n",
    "    def sum(self):\n",
    "        return self.chinese+self.english+self.math\n",
    "\n",
    "s1=Student(name='林家宇',chinese=99,english=100,math=98)\n",
    "print(s1)\n",
    "print(f'總分為{s1.sum}')"
   ]
  },
  {
   "cell_type": "code",
   "execution_count": 8,
   "metadata": {},
   "outputs": [
    {
     "name": "stdout",
     "output_type": "stream",
     "text": [
      "你的姓名Benlin\n",
      "國文:88\n",
      "英文:99\n",
      "數學:89\n",
      "\n",
      "總分為276\n"
     ]
    }
   ],
   "source": [
    "s2=Student(name='Benlin',chinese=88,english=99,math=89)\n",
    "print(s2)\n",
    "print(f'總分為{s2.sum}')"
   ]
  },
  {
   "cell_type": "code",
   "execution_count": 9,
   "metadata": {},
   "outputs": [],
   "source": [
    "#property\n",
    "class Student():\n",
    "    def __init__(self,name:str,chinese:int,english:int,math:int):\n",
    "        super().__init__()\n",
    "        self.name=name #attribute\n",
    "        self.chinese=chinese #attribute\n",
    "        self.english=english #attribute\n",
    "        self.math=math #attribute\n",
    "\n",
    "    def __repr__(self) -> str:\n",
    "        message=f'你的姓名{self.name}\\n'\n",
    "        message+=f'國文:{self.chinese}\\n'\n",
    "        message+=f'英文:{self.english}\\n'\n",
    "        message+=f'數學:{self.math}\\n'\n",
    "        return message\n",
    "    \n",
    "    #建立property的語法\n",
    "    @property\n",
    "    def sum(self):\n",
    "        return self.chinese+self.english+self.math\n",
    "\n",
    "    #實體的方法\n",
    "    def average(self)->float:\n",
    "        return self.sum / 3"
   ]
  },
  {
   "cell_type": "code",
   "execution_count": 13,
   "metadata": {},
   "outputs": [
    {
     "name": "stdout",
     "output_type": "stream",
     "text": [
      "你的姓名林家宇\n",
      "國文:99\n",
      "英文:100\n",
      "數學:98\n",
      "\n",
      "總分為297\n",
      "平均為99.0\n",
      "=====================\n",
      "你的姓名Benlin\n",
      "國文:88\n",
      "英文:99\n",
      "數學:89\n",
      "\n",
      "總分為276\n",
      "平均為92.0\n"
     ]
    }
   ],
   "source": [
    "s1=Student(name='林家宇',chinese=99,english=100,math=98)\n",
    "print(s1)\n",
    "print(f'總分為{s1.sum}')\n",
    "print(f'平均為{s1.average()}')\n",
    "print('=====================')\n",
    "s2=Student(name='Benlin',chinese=88,english=99,math=89)\n",
    "print(s2)\n",
    "print(f'總分為{s2.sum}')\n",
    "print(f'平均為{s2.average()}')"
   ]
  }
 ],
 "metadata": {
  "kernelspec": {
   "display_name": "Python 3",
   "language": "python",
   "name": "python3"
  },
  "language_info": {
   "codemirror_mode": {
    "name": "ipython",
    "version": 3
   },
   "file_extension": ".py",
   "mimetype": "text/x-python",
   "name": "python",
   "nbconvert_exporter": "python",
   "pygments_lexer": "ipython3",
   "version": "3.10.14"
  }
 },
 "nbformat": 4,
 "nbformat_minor": 2
}
