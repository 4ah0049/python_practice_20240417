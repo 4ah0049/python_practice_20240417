{
 "cells": [
  {
   "cell_type": "code",
   "execution_count": 1,
   "metadata": {},
   "outputs": [
    {
     "data": {
      "text/plain": [
       "__main__.Person"
      ]
     },
     "execution_count": 1,
     "metadata": {},
     "output_type": "execute_result"
    }
   ],
   "source": [
    "#自訂的類別\n",
    "class Person():#class 有內建的init(Person 是我們自訂的)\n",
    "    pass\n",
    "p1=Person() #執行init，由P1來管理 class 的功能。\n",
    "type(p1)"
   ]
  },
  {
   "cell_type": "code",
   "execution_count": null,
   "metadata": {},
   "outputs": [],
   "source": [
    "#使用.ipynb檔的好處，就是後面的class 可以蓋過前面的.py檔不行\n",
    "#自訂的attribute,必須要有自訂的init\n",
    "class Person():\n",
    "    def __init__(self):#init 的寫法，可以蓋住原本class 函式內的init改成我們自訂的。\n",
    "                       #一定要有self(自訂的)\n",
    "        self.name='林家宇'\n",
    "p1=Person() \n",
    "type(p1)"
   ]
  },
  {
   "cell_type": "code",
   "execution_count": 5,
   "metadata": {},
   "outputs": [
    {
     "name": "stdout",
     "output_type": "stream",
     "text": [
      "林家宇\n",
      "王大陸\n"
     ]
    }
   ],
   "source": [
    "#使用.ipynb檔的好處，就是後面的class 可以蓋過前面的.py檔不行\n",
    "#自訂的attribute,必須要有自訂的init\n",
    "class Person():\n",
    "    def __init__(self):\n",
    "        self.name='林家宇'\n",
    "p1=Person()\n",
    "print(p1.name)#請抓裡面的name\n",
    "p1.name='王大陸'#修改裡面的資料\n",
    "print(p1.name)\n",
    "\n",
    "#可以建立很多個實體\n",
    "p2=Person()\n",
    "p2.name=王小明\n"
   ]
  },
  {
   "cell_type": "code",
   "execution_count": 9,
   "metadata": {},
   "outputs": [
    {
     "name": "stdout",
     "output_type": "stream",
     "text": [
      "林家宇\n",
      "Benlin\n"
     ]
    }
   ],
   "source": [
    "class Person():\n",
    "    def __init__(self,name:str):\n",
    "        self.name=name\n",
    "\n",
    "p1=Person('林家宇')#引數值呼叫\n",
    "print(p1.name)\n",
    "\n",
    "p2=Person(name='Benlin')#引數名稱呼叫\n",
    "print(p2.name)\n"
   ]
  },
  {
   "cell_type": "code",
   "execution_count": 1,
   "metadata": {},
   "outputs": [
    {
     "name": "stdout",
     "output_type": "stream",
     "text": [
      "林家宇\n",
      "Benlin\n"
     ]
    }
   ],
   "source": [
    "#自訂的attribute,必須要有自訂的init\n",
    "#自訂的init\n",
    "#有自訂的init，才可以建立attribute\n",
    "#只要在class 裡面一定都有self\n",
    "\n",
    "class Person():\n",
    "    def __init__(self,name:str): #在執行init時，要使用super(呼叫)副類別的init\n",
    "        super(). __init__() #super 的意思就是去執行副類別內建的init  \n",
    "        self.name=name\n",
    "\n",
    "p1=Person('林家宇')#引數值呼叫\n",
    "print(p1.name)\n",
    "\n",
    "p2=Person(name='Benlin')#引數名稱呼叫\n",
    "print(p2.name)\n"
   ]
  },
  {
   "cell_type": "code",
   "execution_count": 3,
   "metadata": {},
   "outputs": [
    {
     "name": "stdout",
     "output_type": "stream",
     "text": [
      "林家宇\n",
      "<__main__.Person object at 0x7803840e4fd0>\n",
      "<method-wrapper '__repr__' of Person object at 0x7803840e4fd0>\n",
      "Benlin\n",
      "<__main__.Person object at 0x7803840e7e50>\n",
      "<method-wrapper '__repr__' of Person object at 0x7803840e7e50>\n"
     ]
    }
   ],
   "source": [
    "class Person():\n",
    "    def __init__(self,name:str): \n",
    "        super(). __init__() \n",
    "        self.name=name\n",
    "\n",
    "p1=Person('林家宇')#引數值呼叫\n",
    "print(p1.name)\n",
    "print(p1)\n",
    "print(p1. __repr__)\n",
    "\n",
    "p2=Person(name='Benlin')#引數名稱呼叫\n",
    "print(p2.name)\n",
    "print(p2)\n",
    "print(p2. __repr__)"
   ]
  },
  {
   "cell_type": "code",
   "execution_count": 5,
   "metadata": {},
   "outputs": [
    {
     "name": "stdout",
     "output_type": "stream",
     "text": [
      "林家宇\n",
      "我是Person的實體,我的名字是林家宇\n",
      "<bound method Person.__repr__ of 我是Person的實體,我的名字是林家宇>\n",
      "Benlin\n",
      "我是Person的實體,我的名字是Benlin\n",
      "<bound method Person.__repr__ of 我是Person的實體,我的名字是Benlin>\n"
     ]
    }
   ],
   "source": [
    "#自訂的__repr__\n",
    "class Person():\n",
    "    def __init__(self,name:str): \n",
    "        super(). __init__() \n",
    "        self.name=name\n",
    "    \n",
    "    def __repr__(self):\n",
    "        return f'我是Person的實體,我的名字是{self.name}'\n",
    "\n",
    "p1=Person('林家宇')#引數值呼叫\n",
    "print(p1.name)\n",
    "print(p1)\n",
    "print(p1. __repr__)\n",
    "\n",
    "p2=Person(name='Benlin')#引數名稱呼叫\n",
    "print(p2.name)\n",
    "print(p2)\n",
    "print(p2. __repr__)"
   ]
  },
  {
   "cell_type": "code",
   "execution_count": 2,
   "metadata": {},
   "outputs": [],
   "source": [
    "#繼承\n",
    "class Person():\n",
    "    def __init__(self,name:str): \n",
    "        super(). __init__() \n",
    "        self.name=name\n",
    "    \n",
    "    def __repr__(self):\n",
    "        return f'我是Person的實體,我的名字是{self.name}'\n",
    "\n",
    "class Student(Person):\n",
    "    def __init__(self, name: str,scores:int):\n",
    "        super ().__init__(name)\n",
    "        self.scores=scores\n",
    "    def __repr__(self):\n",
    "        before=super(). __repr__()\n",
    "        return f'{before}分數是{self.scores}'"
   ]
  },
  {
   "cell_type": "code",
   "execution_count": 3,
   "metadata": {},
   "outputs": [
    {
     "name": "stdout",
     "output_type": "stream",
     "text": [
      "林家宇 290\n",
      "我是Person的實體,我的名字是林家宇分數是290\n",
      "Benlin Benlin\n",
      "我是Person的實體,我的名字是Benlin分數是295\n"
     ]
    }
   ],
   "source": [
    "s1=Student('林家宇',290)\n",
    "print(s1.name,s1.scores)\n",
    "print(s1)\n",
    "\n",
    "s2=Student('Benlin',295)\n",
    "print(s2.name,s2.name)\n",
    "print(s2)"
   ]
  }
 ],
 "metadata": {
  "kernelspec": {
   "display_name": "Python 3",
   "language": "python",
   "name": "python3"
  },
  "language_info": {
   "codemirror_mode": {
    "name": "ipython",
    "version": 3
   },
   "file_extension": ".py",
   "mimetype": "text/x-python",
   "name": "python",
   "nbconvert_exporter": "python",
   "pygments_lexer": "ipython3",
   "version": "3.10.14"
  }
 },
 "nbformat": 4,
 "nbformat_minor": 2
}
