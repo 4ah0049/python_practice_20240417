{
 "cells": [
  {
   "cell_type": "code",
   "execution_count": 2,
   "metadata": {},
   "outputs": [
    {
     "name": "stdout",
     "output_type": "stream",
     "text": [
      "<class 'str'>\n"
     ]
    }
   ],
   "source": [
    "\n",
    "with open ('aqx_p_488.json',encoding='utf-8') as file:\n",
    "    print(type(file.read()))"
   ]
  },
  {
   "cell_type": "code",
   "execution_count": 12,
   "metadata": {},
   "outputs": [
    {
     "name": "stdout",
     "output_type": "stream",
     "text": [
      "{'sitename': '屏東(枋山)', 'county': '屏東縣', 'aqi': '49', 'pollutant': '', 'status': '良好', 'so2': '0.1', 'co': '0.1', 'o3': '18.2', 'o3_8hr': '53.6', 'pm10': '9', 'pm2.5': '0', 'no2': '2.7', 'nox': '3.1', 'no': '0.4', 'windspeed': '2.7', 'winddirec': '91', 'datacreationdate': '2024-05-20 21:00', 'unit': '', 'co_8hr': '0.2', 'pm2.5_avg': '13.1', 'pm10_avg': '29', 'so2_avg': '0', 'longitude': '120.651472', 'latitude': '22.260899', 'siteid': '313'}\n",
      "{'sitename': '大甲（日南國小）', 'county': '臺中市', 'aqi': '42', 'pollutant': '', 'status': '良好', 'so2': '0.2', 'co': '0.26', 'o3': '20', 'o3_8hr': '41.4', 'pm10': '26', 'pm2.5': '14', 'no2': '15', 'nox': '16.5', 'no': '1.5', 'windspeed': '0.7', 'winddirec': '59', 'datacreationdate': '2024-05-20 21:00', 'unit': '', 'co_8hr': '0.3', 'pm2.5_avg': '12.8', 'pm10_avg': '34', 'so2_avg': '0', 'longitude': '120.65525382', 'latitude': '24.39017512', 'siteid': '312'}\n",
      "{'sitename': '新北(樹林)', 'county': '新北市', 'aqi': '24', 'pollutant': '', 'status': '良好', 'so2': '0.1', 'co': '0.31', 'o3': '14.6', 'o3_8hr': '15.0', 'pm10': '7', 'pm2.5': '9', 'no2': '13.9', 'nox': '18', 'no': '4.1', 'windspeed': '0.6', 'winddirec': '184', 'datacreationdate': '2024-05-20 21:00', 'unit': '', 'co_8hr': '0.3', 'pm2.5_avg': '7.5', 'pm10_avg': '11', 'so2_avg': '0', 'longitude': '121.38352778', 'latitude': '24.94902778', 'siteid': '311'}\n",
      "{'sitename': '屏東（琉球）', 'county': '屏東縣', 'aqi': '89', 'pollutant': '細懸浮微粒', 'status': '普通', 'so2': '2.6', 'co': '0.73', 'o3': '35.8', 'o3_8hr': '43.8', 'pm10': '76', 'pm2.5': '53', 'no2': '20.4', 'nox': '21.7', 'no': '1.3', 'windspeed': '0.7', 'winddirec': '350', 'datacreationdate': '2024-05-20 21:00', 'unit': '', 'co_8hr': '0.4', 'pm2.5_avg': '31', 'pm10_avg': '49', 'so2_avg': '1', 'longitude': '120.37722', 'latitude': '22.35222', 'siteid': '204'}\n",
      "{'sitename': '臺南（麻豆）', 'county': '臺南市', 'aqi': '84', 'pollutant': '細懸浮微粒', 'status': '普通', 'so2': '1', 'co': '0.23', 'o3': '48.1', 'o3_8hr': '54.2', 'pm10': '42', 'pm2.5': '19', 'no2': '10', 'nox': '10.5', 'no': '0.5', 'windspeed': '0.2', 'winddirec': '3', 'datacreationdate': '2024-05-20 21:00', 'unit': '', 'co_8hr': '0.3', 'pm2.5_avg': '28.8', 'pm10_avg': '54', 'so2_avg': '1', 'longitude': '120.24583056', 'latitude': '23.17904722', 'siteid': '203'}\n"
     ]
    }
   ],
   "source": [
    "import json\n",
    "\n",
    "#如何解析json檔\n",
    "\n",
    "with open ('aqx_p_488.json',encoding='utf-8') as file:\n",
    "    data:dict=json.loads(file.read()) #有內建功能loads,把它轉成data,確認文字格式為dict\n",
    "    data_list:list=data['records'] #dict 內有一個key->叫records,裡面放的是list。\n",
    "\n",
    "for site in data_list[:5]: #而list 可以藉由for..in..的方式一個一個抓出來。\n",
    "    print(site)\n",
    "    print('================')\n",
    "    print(site['sitename']) # 也可以輸入key 抓取value\n",
    "\n"
   ]
  },
  {
   "cell_type": "code",
   "execution_count": null,
   "metadata": {},
   "outputs": [],
   "source": []
  }
 ],
 "metadata": {
  "kernelspec": {
   "display_name": "Python 3",
   "language": "python",
   "name": "python3"
  },
  "language_info": {
   "codemirror_mode": {
    "name": "ipython",
    "version": 3
   },
   "file_extension": ".py",
   "mimetype": "text/x-python",
   "name": "python",
   "nbconvert_exporter": "python",
   "pygments_lexer": "ipython3",
   "version": "3.10.14"
  }
 },
 "nbformat": 4,
 "nbformat_minor": 2
}
