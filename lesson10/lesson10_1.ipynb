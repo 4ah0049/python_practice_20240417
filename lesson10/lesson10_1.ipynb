{
 "cells": [
  {
   "cell_type": "code",
   "execution_count": 1,
   "metadata": {},
   "outputs": [
    {
     "data": {
      "text/plain": [
       "_io.TextIOWrapper"
      ]
     },
     "execution_count": 1,
     "metadata": {},
     "output_type": "execute_result"
    }
   ],
   "source": [
    "file =open ('names.txt',encoding='utf-8')#檔案名稱在相同的路徑\n",
    "type(file)"
   ]
  },
  {
   "cell_type": "code",
   "execution_count": 17,
   "metadata": {},
   "outputs": [
    {
     "name": "stdout",
     "output_type": "stream",
     "text": [
      "陳怡伶\n",
      "馮芳如\n",
      "蒙淑惠\n",
      "張軒宸\n",
      "陳向愛\n",
      "========================\n",
      "陳怡伶\n",
      "馮芳如\n",
      "蒙淑惠\n",
      "['陳怡伶', '馮芳如']\n",
      "['陳怡伶', '馮芳如', '蒙淑惠', '張軒宸', '陳向愛']\n",
      "['李淑芳', '謝南慧', '趙家豪', '龐皓芳', '張彥博']\n"
     ]
    }
   ],
   "source": [
    "with open ('names.txt',encoding='utf-8') as file:\n",
    "    content:str=file.read()\n",
    "\n",
    "names:list[str]=content.split(sep='\\n')#傳出來是list,是串列資料\n",
    "\n",
    "for name in names[:5]: #for in 回圈內可以方串列資料,可以依一個一個抓出來\n",
    "    print(name)\n",
    "\n",
    "print('========================')\n",
    "#subscript的語法\n",
    "print(names[0])# subscript->index(索引)\n",
    "print(names[1])\n",
    "print(names[2])\n",
    "\n",
    "print(names[0:2])#subscropt->slice(切割) 0，1不包含2\n",
    "print(names[:5])#->抓前五個\n",
    "print(names[-5:])#->抓後五個"
   ]
  },
  {
   "cell_type": "code",
   "execution_count": 7,
   "metadata": {},
   "outputs": [
    {
     "name": "stdout",
     "output_type": "stream",
     "text": [
      "[]\n",
      "['a', 'b', 'c']\n",
      "[]\n",
      "a b c\n"
     ]
    }
   ],
   "source": [
    "#建立一個空的list,使用初始化init\n",
    "print(list()) #list 內建輸出為[]中括號\n",
    "print(list('abc')) #\n",
    "\n",
    "#使用純質表示法\n",
    "print([])\n",
    "print('a','b','c')"
   ]
  },
  {
   "cell_type": "code",
   "execution_count": 21,
   "metadata": {},
   "outputs": [
    {
     "data": {
      "text/plain": [
       "['李政成', '林佳光', '許淑婷', '吳欣書', '陳樂紫']"
      ]
     },
     "execution_count": 21,
     "metadata": {},
     "output_type": "execute_result"
    }
   ],
   "source": [
    "import random\n",
    "with open ('names.txt',encoding='utf-8') as file:\n",
    "    content:str=file.read()\n",
    "\n",
    "names:list[str]=content.split(sep='\\n')#傳出來是list,是串列資料\n",
    "\n",
    "random.choices(population=names, k=5)\n"
   ]
  },
  {
   "cell_type": "code",
   "execution_count": 23,
   "metadata": {},
   "outputs": [
    {
     "name": "stdout",
     "output_type": "stream",
     "text": [
      "請輸入要取得姓名的數量"
     ]
    },
    {
     "name": "stdout",
     "output_type": "stream",
     "text": [
      "高信宏 黃佩玲 林向鈺 陳家年 陳慧君 王人仰 杜明延 楊綺芬 謝水儒 蕭淑華 謝南慧 鄧淑娟 孫火清 陳淑娟 翁均安 陳家年 陳孝邦 陳樂紫 潘俊賢 李立偉 王品星 謝水儒 鄭佳玲 柯宜臻 鄭奇翰 林佳蓉 邱亭君 游詩亞 陳姵彬 陳倩潔 黃必琪 李政成 方筠紹 賴佳雯 林佳慧 謝貞妃 賴昌韻 鄧亭聿 黃麗美 吳欣書 陳樂紫 張彥博 謝佳穎 陳逸凡 林佳蓉 林思賢 白世宏 余丞苓 胡芳瑜 林清英 "
     ]
    }
   ],
   "source": [
    "import random\n",
    "import pyinputplus as pyip\n",
    "\n",
    "with open ('names.txt',encoding='utf-8') as file:\n",
    "    content:str=file.read()\n",
    "\n",
    "n:int=pyip.inputInt ('請輸入要取得姓名的數量',min=0,max=200)\n",
    "names:list[str]=content.split(sep='\\n')#傳出來是list,是串列資料\n",
    "\n",
    "random_names:list=random.choices(population=names, k=n)\n",
    "for name in random_names:\n",
    "    print(name,end=' ')\n"
   ]
  }
 ],
 "metadata": {
  "kernelspec": {
   "display_name": "Python 3",
   "language": "python",
   "name": "python3"
  },
  "language_info": {
   "codemirror_mode": {
    "name": "ipython",
    "version": 3
   },
   "file_extension": ".py",
   "mimetype": "text/x-python",
   "name": "python",
   "nbconvert_exporter": "python",
   "pygments_lexer": "ipython3",
   "version": "3.10.14"
  }
 },
 "nbformat": 4,
 "nbformat_minor": 2
}
