{
 "cells": [
  {
   "cell_type": "code",
   "execution_count": 7,
   "metadata": {},
   "outputs": [
    {
     "name": "stdout",
     "output_type": "stream",
     "text": [
      "name='Scott' website='stackabuse.com' from_='Nebraska'\n",
      "name='Larry' website='google.com' from_='Michigan'\n"
     ]
    }
   ],
   "source": [
    "from pydantic import BaseModel,Field\n",
    "class Person(BaseModel):\n",
    "    name:str\n",
    "    website:str\n",
    "    from_:str=Field(alias='from')\n",
    "    #由最裡面開始做\n",
    "\n",
    "class Data(BaseModel):\n",
    "    people:list[Person]\n",
    "    #people 是個list 而list 裡面放的是剛剛定義的Person\n",
    "\n",
    "\n",
    "with open('data.json', encoding='utf-8') as file:\n",
    "    #print(type(file.read())) #file 物件有一個read 的實體可以讀全部的文字,確認為字串\n",
    "    content:str=file.read()\n",
    "    data:Data=Data.model_validate_json(content) \n",
    "#這是class的method,使用class 名稱來執行。\n",
    "#Data 是一個class method,model_validate_json 來驗證json(這邊指的是content),並傳出一個data的實體\n",
    "\n",
    "data_list:list[Person]=data.people\n",
    "for item in data_list:\n",
    "    print(item)"
   ]
  },
  {
   "cell_type": "code",
   "execution_count": 10,
   "metadata": {},
   "outputs": [
    {
     "name": "stdout",
     "output_type": "stream",
     "text": [
      "<class 'dict'>\n",
      "{'people': [{'name': 'Scott', 'website': 'stackabuse.com', 'from_': 'Nebraska'}, {'name': 'Larry', 'website': 'google.com', 'from_': 'Michigan'}]}\n"
     ]
    }
   ],
   "source": [
    "data_dict:dict=data.model_dump() \n",
    "#資料現在叫做data,利用model_dump()是一個實體方法，轉出去變成python的資料結構\n",
    "#我知道目前的根是dict,\n",
    "\n",
    "print(type(data_dict))\n",
    "#type 確認為dict\n",
    "\n",
    "print(data_dict)\n",
    "#變成python 的資料結構dict"
   ]
  },
  {
   "cell_type": "code",
   "execution_count": 11,
   "metadata": {},
   "outputs": [
    {
     "name": "stdout",
     "output_type": "stream",
     "text": [
      "{'people': [{'from_': 'Nebraska', 'name': 'Scott', 'website': 'stackabuse.com'},\n",
      "            {'from_': 'Michigan', 'name': 'Larry', 'website': 'google.com'}]}\n"
     ]
    }
   ],
   "source": [
    "#如何看Dict,使用pprint(內建的function)\n",
    "\n",
    "from pprint import pprint\n",
    "data_dict:dict=data.model_dump() #實體方法(前面要有data這個實體)\n",
    "pprint(data_dict)\n",
    "\n",
    "#使用pprint 來解析這個dict,會比較格式化顯示較為完整\n",
    "#dict透過people 得到list,list裡面有dict"
   ]
  }
 ],
 "metadata": {
  "kernelspec": {
   "display_name": "Python 3",
   "language": "python",
   "name": "python3"
  },
  "language_info": {
   "codemirror_mode": {
    "name": "ipython",
    "version": 3
   },
   "file_extension": ".py",
   "mimetype": "text/x-python",
   "name": "python",
   "nbconvert_exporter": "python",
   "pygments_lexer": "ipython3",
   "version": "3.10.14"
  }
 },
 "nbformat": 4,
 "nbformat_minor": 2
}
