{
 "cells": [
  {
   "cell_type": "code",
   "execution_count": 2,
   "metadata": {},
   "outputs": [
    {
     "name": "stdout",
     "output_type": "stream",
     "text": [
      "123+456=579\n",
      "123+456=56088\n"
     ]
    }
   ],
   "source": [
    "#文件內自訂的function\n",
    "def add(a:int,b:int)->int:\n",
    "    return a + b\n",
    "\n",
    "def multipy (n:int,m:int)->int:\n",
    "    return n*m\n",
    "\n",
    "print(f'123+456={add(123, 456)}')\n",
    "print(f'123+456={multipy(123, 456)}')"
   ]
  },
  {
   "cell_type": "code",
   "execution_count": 5,
   "metadata": {},
   "outputs": [
    {
     "name": "stdout",
     "output_type": "stream",
     "text": [
      "123+456=579\n",
      "123+456=56088\n"
     ]
    }
   ],
   "source": [
    "#建立class 的method\n",
    "#(cls,XX,XX)cls 是將class傳過來\n",
    "class Tools():\n",
    "    @classmethod #用來定義classmethod\n",
    "    def add(cls,a:int,b:int)->int:\n",
    "        return a + b\n",
    "\n",
    "    @classmethod\n",
    "    def multipy (cls,n:int,m:int)->int:\n",
    "        return n*m\n",
    "    \n",
    "#已經完成兩個class method(add、multipy),他要用class名稱來執行，他不需要實體來執行。\n",
    "#class 包了兩個功能,與實體無關。\n",
    "\n",
    "print(f'123+456={Tools.add(123, 456)}')\n",
    "print(f'123+456={Tools.multipy(123, 456)}')\n",
    "\n"
   ]
  }
 ],
 "metadata": {
  "kernelspec": {
   "display_name": "Python 3",
   "language": "python",
   "name": "python3"
  },
  "language_info": {
   "codemirror_mode": {
    "name": "ipython",
    "version": 3
   },
   "file_extension": ".py",
   "mimetype": "text/x-python",
   "name": "python",
   "nbconvert_exporter": "python",
   "pygments_lexer": "ipython3",
   "version": "3.10.14"
  }
 },
 "nbformat": 4,
 "nbformat_minor": 2
}
