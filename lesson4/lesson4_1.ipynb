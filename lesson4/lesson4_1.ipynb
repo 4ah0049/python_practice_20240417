{
 "cells": [
  {
   "cell_type": "code",
   "execution_count": 2,
   "metadata": {},
   "outputs": [
    {
     "name": "stdout",
     "output_type": "stream",
     "text": [
      "3\n",
      "3.142\n"
     ]
    }
   ],
   "source": [
    "print(round(3.14159))\n",
    "print(round(3.1415926,ndigits=3))"
   ]
  },
  {
   "cell_type": "code",
   "execution_count": 2,
   "metadata": {},
   "outputs": [
    {
     "name": "stdout",
     "output_type": "stream",
     "text": [
      "4\n",
      "3\n"
     ]
    }
   ],
   "source": [
    "import math\n",
    "print(math.ceil(3.1415926))\n",
    "print(math.floor(3.1415926))"
   ]
  },
  {
   "cell_type": "code",
   "execution_count": 2,
   "metadata": {},
   "outputs": [
    {
     "name": "stdout",
     "output_type": "stream",
     "text": [
      "10\n",
      "50\n"
     ]
    }
   ],
   "source": [
    "n=10\n",
    "n*5 #這句語法沒有等於接收，所以沒有意義。\n",
    "print(n)\n",
    "\n",
    "n=10 \n",
    "n=n*5\n",
    "print(n)"
   ]
  },
  {
   "cell_type": "code",
   "execution_count": 3,
   "metadata": {},
   "outputs": [
    {
     "name": "stdout",
     "output_type": "stream",
     "text": [
      "50\n"
     ]
    }
   ],
   "source": [
    "n=10\n",
    "n*=5\n",
    "print(n)"
   ]
  },
  {
   "cell_type": "markdown",
   "metadata": {},
   "source": [
    "## 請使用者輸入任意數，程式會顯示此數的平方值、立方值"
   ]
  },
  {
   "cell_type": "code",
   "execution_count": 4,
   "metadata": {},
   "outputs": [
    {
     "name": "stdout",
     "output_type": "stream",
     "text": [
      "你輸入的數值為10,平方值是100\n",
      "你輸入的數值為10,平方值是1000\n"
     ]
    }
   ],
   "source": [
    "source_value=eval(input('請輸入任意數'))\n",
    "value= source_value\n",
    "value**=2\n",
    "print(f'你輸入的數值為{source_value},平方值是{value}')\n",
    "value= source_value\n",
    "value**=3\n",
    "print(f'你輸入的數值為{source_value},平方值是{value}')"
   ]
  },
  {
   "cell_type": "code",
   "execution_count": 5,
   "metadata": {},
   "outputs": [
    {
     "name": "stdout",
     "output_type": "stream",
     "text": [
      "100\n",
      "100\n"
     ]
    }
   ],
   "source": [
    "n=10\n",
    "print(n**2)\n",
    "n**=2\n",
    "print(n)"
   ]
  },
  {
   "cell_type": "markdown",
   "metadata": {},
   "source": [
    "## 請設計程式,讓用者輸入三個任意數，程式會顯示3數相加的總和(float)"
   ]
  },
  {
   "cell_type": "code",
   "execution_count": 7,
   "metadata": {},
   "outputs": [
    {
     "name": "stdout",
     "output_type": "stream",
     "text": [
      "<class 'float'>\n",
      "10.2 + 20.6 + 30.1 = 60.9\n"
     ]
    }
   ],
   "source": [
    "n1 = eval(input(\"請輸入第一個數:\"))\n",
    "print(type(n1))\n",
    "n2 = eval(input(\"請輸入第二個數:\"))\n",
    "n3 = eval(input(\"請輸入第三個數:\"))\n",
    "total = n1 + n2 + n3\n",
    "print(f'{n1} + {n2} + {n3} = {round(total,ndigits=2)}')"
   ]
  },
  {
   "cell_type": "markdown",
   "metadata": {},
   "source": [
    "## 請以(複合指定運算子)設計程式,讓用者輸入三個任意數，程式會顯示3數相加的總和(float)"
   ]
  },
  {
   "cell_type": "code",
   "execution_count": 8,
   "metadata": {},
   "outputs": [
    {
     "name": "stdout",
     "output_type": "stream",
     "text": [
      "第一個數為34.5\n",
      "第二個數為24.8\n",
      "第三個數為56.9\n",
      "總和是116.2\n"
     ]
    }
   ],
   "source": [
    "total=0\n",
    "n=eval(input('請輸入第一個數'))\n",
    "total+=n\n",
    "print(f'第一個數為{n}')\n",
    "n=eval(input('請輸入第二個數'))\n",
    "total+=n\n",
    "print(f'第二個數為{n}')\n",
    "n=eval(input('請輸入第三個數'))\n",
    "total+=n\n",
    "print(f'第三個數為{n}')\n",
    "print(f'總和是{round(total,ndigits=2)}')"
   ]
  },
  {
   "cell_type": "markdown",
   "metadata": {},
   "source": [
    "## 讓使用者輸入直角三角形的對邊\n",
    "## 讓使用者輸入直角三角形的斜邊\n",
    "## 計算角度\n",
    "## 公式: sin(x) = 對邊 / 斜邊,x是radian(弧度)"
   ]
  },
  {
   "cell_type": "code",
   "execution_count": 18,
   "metadata": {},
   "outputs": [
    {
     "name": "stdout",
     "output_type": "stream",
     "text": [
      "角度為30.0\n"
     ]
    }
   ],
   "source": [
    "import math\n",
    "side=eval(input('請輸入對邊'))\n",
    "ano_side=eval(input('請輸入斜邊'))\n",
    "\n",
    "radin=(math.asin(side/ano_side))\n",
    "degree=math.degrees(radin)\n",
    "print(f'角度為{round(degree,ndigits=2)}') "
   ]
  }
 ],
 "metadata": {
  "kernelspec": {
   "display_name": "Python 3",
   "language": "python",
   "name": "python3"
  },
  "language_info": {
   "codemirror_mode": {
    "name": "ipython",
    "version": 3
   },
   "file_extension": ".py",
   "mimetype": "text/x-python",
   "name": "python",
   "nbconvert_exporter": "python",
   "pygments_lexer": "ipython3",
   "version": "3.10.14"
  }
 },
 "nbformat": 4,
 "nbformat_minor": 2
}
