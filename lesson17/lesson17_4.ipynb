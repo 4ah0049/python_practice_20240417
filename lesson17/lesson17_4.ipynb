{
 "cells": [
  {
   "cell_type": "code",
   "execution_count": 16,
   "metadata": {},
   "outputs": [],
   "source": [
    "import numpy as np\n",
    "import pandas as pd\n",
    "\n",
    "df1=pd.read_csv('world.csv')\n",
    "df2=df1.reindex(columns=['洲名','國家','日期','總確診數','新增確診數','總人口數'])\n",
    "tw_ja_df3=df2.query('國家==\"台灣\" or 國家==\"日本\"')\n",
    "tw_ja_2021jan_df4=tw_ja_df3.query('日期>=\"2021-01-01\" and 日期<=\"2021-01-31\"')\n",
    "\n",
    "tw_ja_2021jan_df4.to_csv('tw_ja_2021jan_df4.csv',index=False)\n",
    "tw_ja_2021jan_df4.to_excel('tw_ja_2021jan_df4.xlsx',index=False)\n",
    "tw_ja_2021jan_df4.to_json('tw_ja_2021jan_df4.json',orient='table',force_ascii=False)"
   ]
  }
 ],
 "metadata": {
  "kernelspec": {
   "display_name": "Python 3",
   "language": "python",
   "name": "python3"
  },
  "language_info": {
   "codemirror_mode": {
    "name": "ipython",
    "version": 3
   },
   "file_extension": ".py",
   "mimetype": "text/x-python",
   "name": "python",
   "nbconvert_exporter": "python",
   "pygments_lexer": "ipython3",
   "version": "3.10.14"
  }
 },
 "nbformat": 4,
 "nbformat_minor": 2
}
